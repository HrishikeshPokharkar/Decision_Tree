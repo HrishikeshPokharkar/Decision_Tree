{
  "nbformat": 4,
  "nbformat_minor": 0,
  "metadata": {
    "colab": {
      "provenance": []
    },
    "kernelspec": {
      "name": "python3",
      "display_name": "Python 3"
    },
    "language_info": {
      "name": "python"
    },
    "widgets": {
      "application/vnd.jupyter.widget-state+json": {
        "688b08ee55554f138c9a91231034b042": {
          "model_module": "@jupyter-widgets/controls",
          "model_name": "HBoxModel",
          "model_module_version": "1.5.0",
          "state": {
            "_dom_classes": [],
            "_model_module": "@jupyter-widgets/controls",
            "_model_module_version": "1.5.0",
            "_model_name": "HBoxModel",
            "_view_count": null,
            "_view_module": "@jupyter-widgets/controls",
            "_view_module_version": "1.5.0",
            "_view_name": "HBoxView",
            "box_style": "",
            "children": [
              "IPY_MODEL_e3de406ea84343068f3b9dbf40ffa19d",
              "IPY_MODEL_16ce1bd36ef24664a6cd2e8dcee50def",
              "IPY_MODEL_ff497b3491cb4a3f9ec178ebc12fe99e"
            ],
            "layout": "IPY_MODEL_cca52e2fa16548c7bb9aaf7d5f7114bf"
          }
        },
        "e3de406ea84343068f3b9dbf40ffa19d": {
          "model_module": "@jupyter-widgets/controls",
          "model_name": "HTMLModel",
          "model_module_version": "1.5.0",
          "state": {
            "_dom_classes": [],
            "_model_module": "@jupyter-widgets/controls",
            "_model_module_version": "1.5.0",
            "_model_name": "HTMLModel",
            "_view_count": null,
            "_view_module": "@jupyter-widgets/controls",
            "_view_module_version": "1.5.0",
            "_view_name": "HTMLView",
            "description": "",
            "description_tooltip": null,
            "layout": "IPY_MODEL_de3b1079e38c45268a32f0237073c5a6",
            "placeholder": "​",
            "style": "IPY_MODEL_5750ff9267474015b62577875b38ef47",
            "value": "Summarize dataset: 100%"
          }
        },
        "16ce1bd36ef24664a6cd2e8dcee50def": {
          "model_module": "@jupyter-widgets/controls",
          "model_name": "FloatProgressModel",
          "model_module_version": "1.5.0",
          "state": {
            "_dom_classes": [],
            "_model_module": "@jupyter-widgets/controls",
            "_model_module_version": "1.5.0",
            "_model_name": "FloatProgressModel",
            "_view_count": null,
            "_view_module": "@jupyter-widgets/controls",
            "_view_module_version": "1.5.0",
            "_view_name": "ProgressView",
            "bar_style": "success",
            "description": "",
            "description_tooltip": null,
            "layout": "IPY_MODEL_aa3b33e4cdc44de4afdd6241d10f736a",
            "max": 5,
            "min": 0,
            "orientation": "horizontal",
            "style": "IPY_MODEL_8d11712512dd4d9386c5ec377ef81c37",
            "value": 5
          }
        },
        "ff497b3491cb4a3f9ec178ebc12fe99e": {
          "model_module": "@jupyter-widgets/controls",
          "model_name": "HTMLModel",
          "model_module_version": "1.5.0",
          "state": {
            "_dom_classes": [],
            "_model_module": "@jupyter-widgets/controls",
            "_model_module_version": "1.5.0",
            "_model_name": "HTMLModel",
            "_view_count": null,
            "_view_module": "@jupyter-widgets/controls",
            "_view_module_version": "1.5.0",
            "_view_name": "HTMLView",
            "description": "",
            "description_tooltip": null,
            "layout": "IPY_MODEL_e60069acc67643af86b5cd3aa8fa97a0",
            "placeholder": "​",
            "style": "IPY_MODEL_fc3f6558e8794e3e8dc92924c9d0882a",
            "value": " 39/39 [00:06&lt;00:00,  3.43it/s, Completed]"
          }
        },
        "cca52e2fa16548c7bb9aaf7d5f7114bf": {
          "model_module": "@jupyter-widgets/base",
          "model_name": "LayoutModel",
          "model_module_version": "1.2.0",
          "state": {
            "_model_module": "@jupyter-widgets/base",
            "_model_module_version": "1.2.0",
            "_model_name": "LayoutModel",
            "_view_count": null,
            "_view_module": "@jupyter-widgets/base",
            "_view_module_version": "1.2.0",
            "_view_name": "LayoutView",
            "align_content": null,
            "align_items": null,
            "align_self": null,
            "border": null,
            "bottom": null,
            "display": null,
            "flex": null,
            "flex_flow": null,
            "grid_area": null,
            "grid_auto_columns": null,
            "grid_auto_flow": null,
            "grid_auto_rows": null,
            "grid_column": null,
            "grid_gap": null,
            "grid_row": null,
            "grid_template_areas": null,
            "grid_template_columns": null,
            "grid_template_rows": null,
            "height": null,
            "justify_content": null,
            "justify_items": null,
            "left": null,
            "margin": null,
            "max_height": null,
            "max_width": null,
            "min_height": null,
            "min_width": null,
            "object_fit": null,
            "object_position": null,
            "order": null,
            "overflow": null,
            "overflow_x": null,
            "overflow_y": null,
            "padding": null,
            "right": null,
            "top": null,
            "visibility": null,
            "width": null
          }
        },
        "de3b1079e38c45268a32f0237073c5a6": {
          "model_module": "@jupyter-widgets/base",
          "model_name": "LayoutModel",
          "model_module_version": "1.2.0",
          "state": {
            "_model_module": "@jupyter-widgets/base",
            "_model_module_version": "1.2.0",
            "_model_name": "LayoutModel",
            "_view_count": null,
            "_view_module": "@jupyter-widgets/base",
            "_view_module_version": "1.2.0",
            "_view_name": "LayoutView",
            "align_content": null,
            "align_items": null,
            "align_self": null,
            "border": null,
            "bottom": null,
            "display": null,
            "flex": null,
            "flex_flow": null,
            "grid_area": null,
            "grid_auto_columns": null,
            "grid_auto_flow": null,
            "grid_auto_rows": null,
            "grid_column": null,
            "grid_gap": null,
            "grid_row": null,
            "grid_template_areas": null,
            "grid_template_columns": null,
            "grid_template_rows": null,
            "height": null,
            "justify_content": null,
            "justify_items": null,
            "left": null,
            "margin": null,
            "max_height": null,
            "max_width": null,
            "min_height": null,
            "min_width": null,
            "object_fit": null,
            "object_position": null,
            "order": null,
            "overflow": null,
            "overflow_x": null,
            "overflow_y": null,
            "padding": null,
            "right": null,
            "top": null,
            "visibility": null,
            "width": null
          }
        },
        "5750ff9267474015b62577875b38ef47": {
          "model_module": "@jupyter-widgets/controls",
          "model_name": "DescriptionStyleModel",
          "model_module_version": "1.5.0",
          "state": {
            "_model_module": "@jupyter-widgets/controls",
            "_model_module_version": "1.5.0",
            "_model_name": "DescriptionStyleModel",
            "_view_count": null,
            "_view_module": "@jupyter-widgets/base",
            "_view_module_version": "1.2.0",
            "_view_name": "StyleView",
            "description_width": ""
          }
        },
        "aa3b33e4cdc44de4afdd6241d10f736a": {
          "model_module": "@jupyter-widgets/base",
          "model_name": "LayoutModel",
          "model_module_version": "1.2.0",
          "state": {
            "_model_module": "@jupyter-widgets/base",
            "_model_module_version": "1.2.0",
            "_model_name": "LayoutModel",
            "_view_count": null,
            "_view_module": "@jupyter-widgets/base",
            "_view_module_version": "1.2.0",
            "_view_name": "LayoutView",
            "align_content": null,
            "align_items": null,
            "align_self": null,
            "border": null,
            "bottom": null,
            "display": null,
            "flex": null,
            "flex_flow": null,
            "grid_area": null,
            "grid_auto_columns": null,
            "grid_auto_flow": null,
            "grid_auto_rows": null,
            "grid_column": null,
            "grid_gap": null,
            "grid_row": null,
            "grid_template_areas": null,
            "grid_template_columns": null,
            "grid_template_rows": null,
            "height": null,
            "justify_content": null,
            "justify_items": null,
            "left": null,
            "margin": null,
            "max_height": null,
            "max_width": null,
            "min_height": null,
            "min_width": null,
            "object_fit": null,
            "object_position": null,
            "order": null,
            "overflow": null,
            "overflow_x": null,
            "overflow_y": null,
            "padding": null,
            "right": null,
            "top": null,
            "visibility": null,
            "width": null
          }
        },
        "8d11712512dd4d9386c5ec377ef81c37": {
          "model_module": "@jupyter-widgets/controls",
          "model_name": "ProgressStyleModel",
          "model_module_version": "1.5.0",
          "state": {
            "_model_module": "@jupyter-widgets/controls",
            "_model_module_version": "1.5.0",
            "_model_name": "ProgressStyleModel",
            "_view_count": null,
            "_view_module": "@jupyter-widgets/base",
            "_view_module_version": "1.2.0",
            "_view_name": "StyleView",
            "bar_color": null,
            "description_width": ""
          }
        },
        "e60069acc67643af86b5cd3aa8fa97a0": {
          "model_module": "@jupyter-widgets/base",
          "model_name": "LayoutModel",
          "model_module_version": "1.2.0",
          "state": {
            "_model_module": "@jupyter-widgets/base",
            "_model_module_version": "1.2.0",
            "_model_name": "LayoutModel",
            "_view_count": null,
            "_view_module": "@jupyter-widgets/base",
            "_view_module_version": "1.2.0",
            "_view_name": "LayoutView",
            "align_content": null,
            "align_items": null,
            "align_self": null,
            "border": null,
            "bottom": null,
            "display": null,
            "flex": null,
            "flex_flow": null,
            "grid_area": null,
            "grid_auto_columns": null,
            "grid_auto_flow": null,
            "grid_auto_rows": null,
            "grid_column": null,
            "grid_gap": null,
            "grid_row": null,
            "grid_template_areas": null,
            "grid_template_columns": null,
            "grid_template_rows": null,
            "height": null,
            "justify_content": null,
            "justify_items": null,
            "left": null,
            "margin": null,
            "max_height": null,
            "max_width": null,
            "min_height": null,
            "min_width": null,
            "object_fit": null,
            "object_position": null,
            "order": null,
            "overflow": null,
            "overflow_x": null,
            "overflow_y": null,
            "padding": null,
            "right": null,
            "top": null,
            "visibility": null,
            "width": null
          }
        },
        "fc3f6558e8794e3e8dc92924c9d0882a": {
          "model_module": "@jupyter-widgets/controls",
          "model_name": "DescriptionStyleModel",
          "model_module_version": "1.5.0",
          "state": {
            "_model_module": "@jupyter-widgets/controls",
            "_model_module_version": "1.5.0",
            "_model_name": "DescriptionStyleModel",
            "_view_count": null,
            "_view_module": "@jupyter-widgets/base",
            "_view_module_version": "1.2.0",
            "_view_name": "StyleView",
            "description_width": ""
          }
        },
        "782de92fd09a4ca794dcf8ed64f4639e": {
          "model_module": "@jupyter-widgets/controls",
          "model_name": "HBoxModel",
          "model_module_version": "1.5.0",
          "state": {
            "_dom_classes": [],
            "_model_module": "@jupyter-widgets/controls",
            "_model_module_version": "1.5.0",
            "_model_name": "HBoxModel",
            "_view_count": null,
            "_view_module": "@jupyter-widgets/controls",
            "_view_module_version": "1.5.0",
            "_view_name": "HBoxView",
            "box_style": "",
            "children": [
              "IPY_MODEL_e063230a68364fc881823b9ad4e9fde7",
              "IPY_MODEL_a81c9074c85848ed94974ba887bbc1a4",
              "IPY_MODEL_899955c8fdba4fb4bfc6c87bbc0d00c8"
            ],
            "layout": "IPY_MODEL_6be32018e1a542f5ac0eb237624e9448"
          }
        },
        "e063230a68364fc881823b9ad4e9fde7": {
          "model_module": "@jupyter-widgets/controls",
          "model_name": "HTMLModel",
          "model_module_version": "1.5.0",
          "state": {
            "_dom_classes": [],
            "_model_module": "@jupyter-widgets/controls",
            "_model_module_version": "1.5.0",
            "_model_name": "HTMLModel",
            "_view_count": null,
            "_view_module": "@jupyter-widgets/controls",
            "_view_module_version": "1.5.0",
            "_view_name": "HTMLView",
            "description": "",
            "description_tooltip": null,
            "layout": "IPY_MODEL_df6395a576f347bb94432b1b5968a5e6",
            "placeholder": "​",
            "style": "IPY_MODEL_72f28041f0e3498ab97438962549c18f",
            "value": "Generate report structure: 100%"
          }
        },
        "a81c9074c85848ed94974ba887bbc1a4": {
          "model_module": "@jupyter-widgets/controls",
          "model_name": "FloatProgressModel",
          "model_module_version": "1.5.0",
          "state": {
            "_dom_classes": [],
            "_model_module": "@jupyter-widgets/controls",
            "_model_module_version": "1.5.0",
            "_model_name": "FloatProgressModel",
            "_view_count": null,
            "_view_module": "@jupyter-widgets/controls",
            "_view_module_version": "1.5.0",
            "_view_name": "ProgressView",
            "bar_style": "success",
            "description": "",
            "description_tooltip": null,
            "layout": "IPY_MODEL_320f19640a6741fc83b2cc7e498fdc91",
            "max": 1,
            "min": 0,
            "orientation": "horizontal",
            "style": "IPY_MODEL_5d6ba88a478d4a9f88100e39264f59f1",
            "value": 1
          }
        },
        "899955c8fdba4fb4bfc6c87bbc0d00c8": {
          "model_module": "@jupyter-widgets/controls",
          "model_name": "HTMLModel",
          "model_module_version": "1.5.0",
          "state": {
            "_dom_classes": [],
            "_model_module": "@jupyter-widgets/controls",
            "_model_module_version": "1.5.0",
            "_model_name": "HTMLModel",
            "_view_count": null,
            "_view_module": "@jupyter-widgets/controls",
            "_view_module_version": "1.5.0",
            "_view_name": "HTMLView",
            "description": "",
            "description_tooltip": null,
            "layout": "IPY_MODEL_da13ca067275437888e64a917d35ebbb",
            "placeholder": "​",
            "style": "IPY_MODEL_380882df2f884648be34933eef4cda15",
            "value": " 1/1 [00:08&lt;00:00,  8.24s/it]"
          }
        },
        "6be32018e1a542f5ac0eb237624e9448": {
          "model_module": "@jupyter-widgets/base",
          "model_name": "LayoutModel",
          "model_module_version": "1.2.0",
          "state": {
            "_model_module": "@jupyter-widgets/base",
            "_model_module_version": "1.2.0",
            "_model_name": "LayoutModel",
            "_view_count": null,
            "_view_module": "@jupyter-widgets/base",
            "_view_module_version": "1.2.0",
            "_view_name": "LayoutView",
            "align_content": null,
            "align_items": null,
            "align_self": null,
            "border": null,
            "bottom": null,
            "display": null,
            "flex": null,
            "flex_flow": null,
            "grid_area": null,
            "grid_auto_columns": null,
            "grid_auto_flow": null,
            "grid_auto_rows": null,
            "grid_column": null,
            "grid_gap": null,
            "grid_row": null,
            "grid_template_areas": null,
            "grid_template_columns": null,
            "grid_template_rows": null,
            "height": null,
            "justify_content": null,
            "justify_items": null,
            "left": null,
            "margin": null,
            "max_height": null,
            "max_width": null,
            "min_height": null,
            "min_width": null,
            "object_fit": null,
            "object_position": null,
            "order": null,
            "overflow": null,
            "overflow_x": null,
            "overflow_y": null,
            "padding": null,
            "right": null,
            "top": null,
            "visibility": null,
            "width": null
          }
        },
        "df6395a576f347bb94432b1b5968a5e6": {
          "model_module": "@jupyter-widgets/base",
          "model_name": "LayoutModel",
          "model_module_version": "1.2.0",
          "state": {
            "_model_module": "@jupyter-widgets/base",
            "_model_module_version": "1.2.0",
            "_model_name": "LayoutModel",
            "_view_count": null,
            "_view_module": "@jupyter-widgets/base",
            "_view_module_version": "1.2.0",
            "_view_name": "LayoutView",
            "align_content": null,
            "align_items": null,
            "align_self": null,
            "border": null,
            "bottom": null,
            "display": null,
            "flex": null,
            "flex_flow": null,
            "grid_area": null,
            "grid_auto_columns": null,
            "grid_auto_flow": null,
            "grid_auto_rows": null,
            "grid_column": null,
            "grid_gap": null,
            "grid_row": null,
            "grid_template_areas": null,
            "grid_template_columns": null,
            "grid_template_rows": null,
            "height": null,
            "justify_content": null,
            "justify_items": null,
            "left": null,
            "margin": null,
            "max_height": null,
            "max_width": null,
            "min_height": null,
            "min_width": null,
            "object_fit": null,
            "object_position": null,
            "order": null,
            "overflow": null,
            "overflow_x": null,
            "overflow_y": null,
            "padding": null,
            "right": null,
            "top": null,
            "visibility": null,
            "width": null
          }
        },
        "72f28041f0e3498ab97438962549c18f": {
          "model_module": "@jupyter-widgets/controls",
          "model_name": "DescriptionStyleModel",
          "model_module_version": "1.5.0",
          "state": {
            "_model_module": "@jupyter-widgets/controls",
            "_model_module_version": "1.5.0",
            "_model_name": "DescriptionStyleModel",
            "_view_count": null,
            "_view_module": "@jupyter-widgets/base",
            "_view_module_version": "1.2.0",
            "_view_name": "StyleView",
            "description_width": ""
          }
        },
        "320f19640a6741fc83b2cc7e498fdc91": {
          "model_module": "@jupyter-widgets/base",
          "model_name": "LayoutModel",
          "model_module_version": "1.2.0",
          "state": {
            "_model_module": "@jupyter-widgets/base",
            "_model_module_version": "1.2.0",
            "_model_name": "LayoutModel",
            "_view_count": null,
            "_view_module": "@jupyter-widgets/base",
            "_view_module_version": "1.2.0",
            "_view_name": "LayoutView",
            "align_content": null,
            "align_items": null,
            "align_self": null,
            "border": null,
            "bottom": null,
            "display": null,
            "flex": null,
            "flex_flow": null,
            "grid_area": null,
            "grid_auto_columns": null,
            "grid_auto_flow": null,
            "grid_auto_rows": null,
            "grid_column": null,
            "grid_gap": null,
            "grid_row": null,
            "grid_template_areas": null,
            "grid_template_columns": null,
            "grid_template_rows": null,
            "height": null,
            "justify_content": null,
            "justify_items": null,
            "left": null,
            "margin": null,
            "max_height": null,
            "max_width": null,
            "min_height": null,
            "min_width": null,
            "object_fit": null,
            "object_position": null,
            "order": null,
            "overflow": null,
            "overflow_x": null,
            "overflow_y": null,
            "padding": null,
            "right": null,
            "top": null,
            "visibility": null,
            "width": null
          }
        },
        "5d6ba88a478d4a9f88100e39264f59f1": {
          "model_module": "@jupyter-widgets/controls",
          "model_name": "ProgressStyleModel",
          "model_module_version": "1.5.0",
          "state": {
            "_model_module": "@jupyter-widgets/controls",
            "_model_module_version": "1.5.0",
            "_model_name": "ProgressStyleModel",
            "_view_count": null,
            "_view_module": "@jupyter-widgets/base",
            "_view_module_version": "1.2.0",
            "_view_name": "StyleView",
            "bar_color": null,
            "description_width": ""
          }
        },
        "da13ca067275437888e64a917d35ebbb": {
          "model_module": "@jupyter-widgets/base",
          "model_name": "LayoutModel",
          "model_module_version": "1.2.0",
          "state": {
            "_model_module": "@jupyter-widgets/base",
            "_model_module_version": "1.2.0",
            "_model_name": "LayoutModel",
            "_view_count": null,
            "_view_module": "@jupyter-widgets/base",
            "_view_module_version": "1.2.0",
            "_view_name": "LayoutView",
            "align_content": null,
            "align_items": null,
            "align_self": null,
            "border": null,
            "bottom": null,
            "display": null,
            "flex": null,
            "flex_flow": null,
            "grid_area": null,
            "grid_auto_columns": null,
            "grid_auto_flow": null,
            "grid_auto_rows": null,
            "grid_column": null,
            "grid_gap": null,
            "grid_row": null,
            "grid_template_areas": null,
            "grid_template_columns": null,
            "grid_template_rows": null,
            "height": null,
            "justify_content": null,
            "justify_items": null,
            "left": null,
            "margin": null,
            "max_height": null,
            "max_width": null,
            "min_height": null,
            "min_width": null,
            "object_fit": null,
            "object_position": null,
            "order": null,
            "overflow": null,
            "overflow_x": null,
            "overflow_y": null,
            "padding": null,
            "right": null,
            "top": null,
            "visibility": null,
            "width": null
          }
        },
        "380882df2f884648be34933eef4cda15": {
          "model_module": "@jupyter-widgets/controls",
          "model_name": "DescriptionStyleModel",
          "model_module_version": "1.5.0",
          "state": {
            "_model_module": "@jupyter-widgets/controls",
            "_model_module_version": "1.5.0",
            "_model_name": "DescriptionStyleModel",
            "_view_count": null,
            "_view_module": "@jupyter-widgets/base",
            "_view_module_version": "1.2.0",
            "_view_name": "StyleView",
            "description_width": ""
          }
        },
        "b8d084114add4febb8d97ff3a34e020f": {
          "model_module": "@jupyter-widgets/controls",
          "model_name": "HBoxModel",
          "model_module_version": "1.5.0",
          "state": {
            "_dom_classes": [],
            "_model_module": "@jupyter-widgets/controls",
            "_model_module_version": "1.5.0",
            "_model_name": "HBoxModel",
            "_view_count": null,
            "_view_module": "@jupyter-widgets/controls",
            "_view_module_version": "1.5.0",
            "_view_name": "HBoxView",
            "box_style": "",
            "children": [
              "IPY_MODEL_495f0cffbae548409278c674aa43b9ef",
              "IPY_MODEL_d4a75f0511ef4368a6b716b917d21a40",
              "IPY_MODEL_8ea254a8166844d6b2a4aff9632e71cb"
            ],
            "layout": "IPY_MODEL_c0041dad2f2a4f07ab01c03139cb45c3"
          }
        },
        "495f0cffbae548409278c674aa43b9ef": {
          "model_module": "@jupyter-widgets/controls",
          "model_name": "HTMLModel",
          "model_module_version": "1.5.0",
          "state": {
            "_dom_classes": [],
            "_model_module": "@jupyter-widgets/controls",
            "_model_module_version": "1.5.0",
            "_model_name": "HTMLModel",
            "_view_count": null,
            "_view_module": "@jupyter-widgets/controls",
            "_view_module_version": "1.5.0",
            "_view_name": "HTMLView",
            "description": "",
            "description_tooltip": null,
            "layout": "IPY_MODEL_8a9fbf7331d04137ac8dacc26d2a8db9",
            "placeholder": "​",
            "style": "IPY_MODEL_974c39c660b94cbe870b5b601957cd3b",
            "value": "Render HTML: 100%"
          }
        },
        "d4a75f0511ef4368a6b716b917d21a40": {
          "model_module": "@jupyter-widgets/controls",
          "model_name": "FloatProgressModel",
          "model_module_version": "1.5.0",
          "state": {
            "_dom_classes": [],
            "_model_module": "@jupyter-widgets/controls",
            "_model_module_version": "1.5.0",
            "_model_name": "FloatProgressModel",
            "_view_count": null,
            "_view_module": "@jupyter-widgets/controls",
            "_view_module_version": "1.5.0",
            "_view_name": "ProgressView",
            "bar_style": "success",
            "description": "",
            "description_tooltip": null,
            "layout": "IPY_MODEL_1058da51623b4ee08a8d5240531c04be",
            "max": 1,
            "min": 0,
            "orientation": "horizontal",
            "style": "IPY_MODEL_929a828fa321478b8a03e8b6ed9683ef",
            "value": 1
          }
        },
        "8ea254a8166844d6b2a4aff9632e71cb": {
          "model_module": "@jupyter-widgets/controls",
          "model_name": "HTMLModel",
          "model_module_version": "1.5.0",
          "state": {
            "_dom_classes": [],
            "_model_module": "@jupyter-widgets/controls",
            "_model_module_version": "1.5.0",
            "_model_name": "HTMLModel",
            "_view_count": null,
            "_view_module": "@jupyter-widgets/controls",
            "_view_module_version": "1.5.0",
            "_view_name": "HTMLView",
            "description": "",
            "description_tooltip": null,
            "layout": "IPY_MODEL_224fcbcf8a054eaf8992ebba521cac2e",
            "placeholder": "​",
            "style": "IPY_MODEL_9b3a7418ce734720a7b3c802a6e9f0ff",
            "value": " 1/1 [00:01&lt;00:00,  1.13s/it]"
          }
        },
        "c0041dad2f2a4f07ab01c03139cb45c3": {
          "model_module": "@jupyter-widgets/base",
          "model_name": "LayoutModel",
          "model_module_version": "1.2.0",
          "state": {
            "_model_module": "@jupyter-widgets/base",
            "_model_module_version": "1.2.0",
            "_model_name": "LayoutModel",
            "_view_count": null,
            "_view_module": "@jupyter-widgets/base",
            "_view_module_version": "1.2.0",
            "_view_name": "LayoutView",
            "align_content": null,
            "align_items": null,
            "align_self": null,
            "border": null,
            "bottom": null,
            "display": null,
            "flex": null,
            "flex_flow": null,
            "grid_area": null,
            "grid_auto_columns": null,
            "grid_auto_flow": null,
            "grid_auto_rows": null,
            "grid_column": null,
            "grid_gap": null,
            "grid_row": null,
            "grid_template_areas": null,
            "grid_template_columns": null,
            "grid_template_rows": null,
            "height": null,
            "justify_content": null,
            "justify_items": null,
            "left": null,
            "margin": null,
            "max_height": null,
            "max_width": null,
            "min_height": null,
            "min_width": null,
            "object_fit": null,
            "object_position": null,
            "order": null,
            "overflow": null,
            "overflow_x": null,
            "overflow_y": null,
            "padding": null,
            "right": null,
            "top": null,
            "visibility": null,
            "width": null
          }
        },
        "8a9fbf7331d04137ac8dacc26d2a8db9": {
          "model_module": "@jupyter-widgets/base",
          "model_name": "LayoutModel",
          "model_module_version": "1.2.0",
          "state": {
            "_model_module": "@jupyter-widgets/base",
            "_model_module_version": "1.2.0",
            "_model_name": "LayoutModel",
            "_view_count": null,
            "_view_module": "@jupyter-widgets/base",
            "_view_module_version": "1.2.0",
            "_view_name": "LayoutView",
            "align_content": null,
            "align_items": null,
            "align_self": null,
            "border": null,
            "bottom": null,
            "display": null,
            "flex": null,
            "flex_flow": null,
            "grid_area": null,
            "grid_auto_columns": null,
            "grid_auto_flow": null,
            "grid_auto_rows": null,
            "grid_column": null,
            "grid_gap": null,
            "grid_row": null,
            "grid_template_areas": null,
            "grid_template_columns": null,
            "grid_template_rows": null,
            "height": null,
            "justify_content": null,
            "justify_items": null,
            "left": null,
            "margin": null,
            "max_height": null,
            "max_width": null,
            "min_height": null,
            "min_width": null,
            "object_fit": null,
            "object_position": null,
            "order": null,
            "overflow": null,
            "overflow_x": null,
            "overflow_y": null,
            "padding": null,
            "right": null,
            "top": null,
            "visibility": null,
            "width": null
          }
        },
        "974c39c660b94cbe870b5b601957cd3b": {
          "model_module": "@jupyter-widgets/controls",
          "model_name": "DescriptionStyleModel",
          "model_module_version": "1.5.0",
          "state": {
            "_model_module": "@jupyter-widgets/controls",
            "_model_module_version": "1.5.0",
            "_model_name": "DescriptionStyleModel",
            "_view_count": null,
            "_view_module": "@jupyter-widgets/base",
            "_view_module_version": "1.2.0",
            "_view_name": "StyleView",
            "description_width": ""
          }
        },
        "1058da51623b4ee08a8d5240531c04be": {
          "model_module": "@jupyter-widgets/base",
          "model_name": "LayoutModel",
          "model_module_version": "1.2.0",
          "state": {
            "_model_module": "@jupyter-widgets/base",
            "_model_module_version": "1.2.0",
            "_model_name": "LayoutModel",
            "_view_count": null,
            "_view_module": "@jupyter-widgets/base",
            "_view_module_version": "1.2.0",
            "_view_name": "LayoutView",
            "align_content": null,
            "align_items": null,
            "align_self": null,
            "border": null,
            "bottom": null,
            "display": null,
            "flex": null,
            "flex_flow": null,
            "grid_area": null,
            "grid_auto_columns": null,
            "grid_auto_flow": null,
            "grid_auto_rows": null,
            "grid_column": null,
            "grid_gap": null,
            "grid_row": null,
            "grid_template_areas": null,
            "grid_template_columns": null,
            "grid_template_rows": null,
            "height": null,
            "justify_content": null,
            "justify_items": null,
            "left": null,
            "margin": null,
            "max_height": null,
            "max_width": null,
            "min_height": null,
            "min_width": null,
            "object_fit": null,
            "object_position": null,
            "order": null,
            "overflow": null,
            "overflow_x": null,
            "overflow_y": null,
            "padding": null,
            "right": null,
            "top": null,
            "visibility": null,
            "width": null
          }
        },
        "929a828fa321478b8a03e8b6ed9683ef": {
          "model_module": "@jupyter-widgets/controls",
          "model_name": "ProgressStyleModel",
          "model_module_version": "1.5.0",
          "state": {
            "_model_module": "@jupyter-widgets/controls",
            "_model_module_version": "1.5.0",
            "_model_name": "ProgressStyleModel",
            "_view_count": null,
            "_view_module": "@jupyter-widgets/base",
            "_view_module_version": "1.2.0",
            "_view_name": "StyleView",
            "bar_color": null,
            "description_width": ""
          }
        },
        "224fcbcf8a054eaf8992ebba521cac2e": {
          "model_module": "@jupyter-widgets/base",
          "model_name": "LayoutModel",
          "model_module_version": "1.2.0",
          "state": {
            "_model_module": "@jupyter-widgets/base",
            "_model_module_version": "1.2.0",
            "_model_name": "LayoutModel",
            "_view_count": null,
            "_view_module": "@jupyter-widgets/base",
            "_view_module_version": "1.2.0",
            "_view_name": "LayoutView",
            "align_content": null,
            "align_items": null,
            "align_self": null,
            "border": null,
            "bottom": null,
            "display": null,
            "flex": null,
            "flex_flow": null,
            "grid_area": null,
            "grid_auto_columns": null,
            "grid_auto_flow": null,
            "grid_auto_rows": null,
            "grid_column": null,
            "grid_gap": null,
            "grid_row": null,
            "grid_template_areas": null,
            "grid_template_columns": null,
            "grid_template_rows": null,
            "height": null,
            "justify_content": null,
            "justify_items": null,
            "left": null,
            "margin": null,
            "max_height": null,
            "max_width": null,
            "min_height": null,
            "min_width": null,
            "object_fit": null,
            "object_position": null,
            "order": null,
            "overflow": null,
            "overflow_x": null,
            "overflow_y": null,
            "padding": null,
            "right": null,
            "top": null,
            "visibility": null,
            "width": null
          }
        },
        "9b3a7418ce734720a7b3c802a6e9f0ff": {
          "model_module": "@jupyter-widgets/controls",
          "model_name": "DescriptionStyleModel",
          "model_module_version": "1.5.0",
          "state": {
            "_model_module": "@jupyter-widgets/controls",
            "_model_module_version": "1.5.0",
            "_model_name": "DescriptionStyleModel",
            "_view_count": null,
            "_view_module": "@jupyter-widgets/base",
            "_view_module_version": "1.2.0",
            "_view_name": "StyleView",
            "description_width": ""
          }
        },
        "6d6f96444a8f4205ab25645791b58e50": {
          "model_module": "@jupyter-widgets/controls",
          "model_name": "HBoxModel",
          "model_module_version": "1.5.0",
          "state": {
            "_dom_classes": [],
            "_model_module": "@jupyter-widgets/controls",
            "_model_module_version": "1.5.0",
            "_model_name": "HBoxModel",
            "_view_count": null,
            "_view_module": "@jupyter-widgets/controls",
            "_view_module_version": "1.5.0",
            "_view_name": "HBoxView",
            "box_style": "",
            "children": [
              "IPY_MODEL_8fdc9df0310143858229f65981a4cd73",
              "IPY_MODEL_d2852d4d61cd403fae4f3618cda0f21d",
              "IPY_MODEL_24018d0d97694c7ca6b59559dfe0ae11"
            ],
            "layout": "IPY_MODEL_f538c981ad17404eb4301d2a723b980a"
          }
        },
        "8fdc9df0310143858229f65981a4cd73": {
          "model_module": "@jupyter-widgets/controls",
          "model_name": "HTMLModel",
          "model_module_version": "1.5.0",
          "state": {
            "_dom_classes": [],
            "_model_module": "@jupyter-widgets/controls",
            "_model_module_version": "1.5.0",
            "_model_name": "HTMLModel",
            "_view_count": null,
            "_view_module": "@jupyter-widgets/controls",
            "_view_module_version": "1.5.0",
            "_view_name": "HTMLView",
            "description": "",
            "description_tooltip": null,
            "layout": "IPY_MODEL_6fcbe370540c4f20bd446e741e379bcf",
            "placeholder": "​",
            "style": "IPY_MODEL_33d024ae09ea40ea945382849bf72c8b",
            "value": "Export report to file: 100%"
          }
        },
        "d2852d4d61cd403fae4f3618cda0f21d": {
          "model_module": "@jupyter-widgets/controls",
          "model_name": "FloatProgressModel",
          "model_module_version": "1.5.0",
          "state": {
            "_dom_classes": [],
            "_model_module": "@jupyter-widgets/controls",
            "_model_module_version": "1.5.0",
            "_model_name": "FloatProgressModel",
            "_view_count": null,
            "_view_module": "@jupyter-widgets/controls",
            "_view_module_version": "1.5.0",
            "_view_name": "ProgressView",
            "bar_style": "success",
            "description": "",
            "description_tooltip": null,
            "layout": "IPY_MODEL_6b0b7ff3c16f4c7587337e7337e537e1",
            "max": 1,
            "min": 0,
            "orientation": "horizontal",
            "style": "IPY_MODEL_53de1a0aa3044a51b8290c86321bbd83",
            "value": 1
          }
        },
        "24018d0d97694c7ca6b59559dfe0ae11": {
          "model_module": "@jupyter-widgets/controls",
          "model_name": "HTMLModel",
          "model_module_version": "1.5.0",
          "state": {
            "_dom_classes": [],
            "_model_module": "@jupyter-widgets/controls",
            "_model_module_version": "1.5.0",
            "_model_name": "HTMLModel",
            "_view_count": null,
            "_view_module": "@jupyter-widgets/controls",
            "_view_module_version": "1.5.0",
            "_view_name": "HTMLView",
            "description": "",
            "description_tooltip": null,
            "layout": "IPY_MODEL_131c137d4c0e4ee39e6a0c2c70e30e1e",
            "placeholder": "​",
            "style": "IPY_MODEL_fecdc04e47c44602a608e0211e0afb7f",
            "value": " 1/1 [00:00&lt;00:00, 32.83it/s]"
          }
        },
        "f538c981ad17404eb4301d2a723b980a": {
          "model_module": "@jupyter-widgets/base",
          "model_name": "LayoutModel",
          "model_module_version": "1.2.0",
          "state": {
            "_model_module": "@jupyter-widgets/base",
            "_model_module_version": "1.2.0",
            "_model_name": "LayoutModel",
            "_view_count": null,
            "_view_module": "@jupyter-widgets/base",
            "_view_module_version": "1.2.0",
            "_view_name": "LayoutView",
            "align_content": null,
            "align_items": null,
            "align_self": null,
            "border": null,
            "bottom": null,
            "display": null,
            "flex": null,
            "flex_flow": null,
            "grid_area": null,
            "grid_auto_columns": null,
            "grid_auto_flow": null,
            "grid_auto_rows": null,
            "grid_column": null,
            "grid_gap": null,
            "grid_row": null,
            "grid_template_areas": null,
            "grid_template_columns": null,
            "grid_template_rows": null,
            "height": null,
            "justify_content": null,
            "justify_items": null,
            "left": null,
            "margin": null,
            "max_height": null,
            "max_width": null,
            "min_height": null,
            "min_width": null,
            "object_fit": null,
            "object_position": null,
            "order": null,
            "overflow": null,
            "overflow_x": null,
            "overflow_y": null,
            "padding": null,
            "right": null,
            "top": null,
            "visibility": null,
            "width": null
          }
        },
        "6fcbe370540c4f20bd446e741e379bcf": {
          "model_module": "@jupyter-widgets/base",
          "model_name": "LayoutModel",
          "model_module_version": "1.2.0",
          "state": {
            "_model_module": "@jupyter-widgets/base",
            "_model_module_version": "1.2.0",
            "_model_name": "LayoutModel",
            "_view_count": null,
            "_view_module": "@jupyter-widgets/base",
            "_view_module_version": "1.2.0",
            "_view_name": "LayoutView",
            "align_content": null,
            "align_items": null,
            "align_self": null,
            "border": null,
            "bottom": null,
            "display": null,
            "flex": null,
            "flex_flow": null,
            "grid_area": null,
            "grid_auto_columns": null,
            "grid_auto_flow": null,
            "grid_auto_rows": null,
            "grid_column": null,
            "grid_gap": null,
            "grid_row": null,
            "grid_template_areas": null,
            "grid_template_columns": null,
            "grid_template_rows": null,
            "height": null,
            "justify_content": null,
            "justify_items": null,
            "left": null,
            "margin": null,
            "max_height": null,
            "max_width": null,
            "min_height": null,
            "min_width": null,
            "object_fit": null,
            "object_position": null,
            "order": null,
            "overflow": null,
            "overflow_x": null,
            "overflow_y": null,
            "padding": null,
            "right": null,
            "top": null,
            "visibility": null,
            "width": null
          }
        },
        "33d024ae09ea40ea945382849bf72c8b": {
          "model_module": "@jupyter-widgets/controls",
          "model_name": "DescriptionStyleModel",
          "model_module_version": "1.5.0",
          "state": {
            "_model_module": "@jupyter-widgets/controls",
            "_model_module_version": "1.5.0",
            "_model_name": "DescriptionStyleModel",
            "_view_count": null,
            "_view_module": "@jupyter-widgets/base",
            "_view_module_version": "1.2.0",
            "_view_name": "StyleView",
            "description_width": ""
          }
        },
        "6b0b7ff3c16f4c7587337e7337e537e1": {
          "model_module": "@jupyter-widgets/base",
          "model_name": "LayoutModel",
          "model_module_version": "1.2.0",
          "state": {
            "_model_module": "@jupyter-widgets/base",
            "_model_module_version": "1.2.0",
            "_model_name": "LayoutModel",
            "_view_count": null,
            "_view_module": "@jupyter-widgets/base",
            "_view_module_version": "1.2.0",
            "_view_name": "LayoutView",
            "align_content": null,
            "align_items": null,
            "align_self": null,
            "border": null,
            "bottom": null,
            "display": null,
            "flex": null,
            "flex_flow": null,
            "grid_area": null,
            "grid_auto_columns": null,
            "grid_auto_flow": null,
            "grid_auto_rows": null,
            "grid_column": null,
            "grid_gap": null,
            "grid_row": null,
            "grid_template_areas": null,
            "grid_template_columns": null,
            "grid_template_rows": null,
            "height": null,
            "justify_content": null,
            "justify_items": null,
            "left": null,
            "margin": null,
            "max_height": null,
            "max_width": null,
            "min_height": null,
            "min_width": null,
            "object_fit": null,
            "object_position": null,
            "order": null,
            "overflow": null,
            "overflow_x": null,
            "overflow_y": null,
            "padding": null,
            "right": null,
            "top": null,
            "visibility": null,
            "width": null
          }
        },
        "53de1a0aa3044a51b8290c86321bbd83": {
          "model_module": "@jupyter-widgets/controls",
          "model_name": "ProgressStyleModel",
          "model_module_version": "1.5.0",
          "state": {
            "_model_module": "@jupyter-widgets/controls",
            "_model_module_version": "1.5.0",
            "_model_name": "ProgressStyleModel",
            "_view_count": null,
            "_view_module": "@jupyter-widgets/base",
            "_view_module_version": "1.2.0",
            "_view_name": "StyleView",
            "bar_color": null,
            "description_width": ""
          }
        },
        "131c137d4c0e4ee39e6a0c2c70e30e1e": {
          "model_module": "@jupyter-widgets/base",
          "model_name": "LayoutModel",
          "model_module_version": "1.2.0",
          "state": {
            "_model_module": "@jupyter-widgets/base",
            "_model_module_version": "1.2.0",
            "_model_name": "LayoutModel",
            "_view_count": null,
            "_view_module": "@jupyter-widgets/base",
            "_view_module_version": "1.2.0",
            "_view_name": "LayoutView",
            "align_content": null,
            "align_items": null,
            "align_self": null,
            "border": null,
            "bottom": null,
            "display": null,
            "flex": null,
            "flex_flow": null,
            "grid_area": null,
            "grid_auto_columns": null,
            "grid_auto_flow": null,
            "grid_auto_rows": null,
            "grid_column": null,
            "grid_gap": null,
            "grid_row": null,
            "grid_template_areas": null,
            "grid_template_columns": null,
            "grid_template_rows": null,
            "height": null,
            "justify_content": null,
            "justify_items": null,
            "left": null,
            "margin": null,
            "max_height": null,
            "max_width": null,
            "min_height": null,
            "min_width": null,
            "object_fit": null,
            "object_position": null,
            "order": null,
            "overflow": null,
            "overflow_x": null,
            "overflow_y": null,
            "padding": null,
            "right": null,
            "top": null,
            "visibility": null,
            "width": null
          }
        },
        "fecdc04e47c44602a608e0211e0afb7f": {
          "model_module": "@jupyter-widgets/controls",
          "model_name": "DescriptionStyleModel",
          "model_module_version": "1.5.0",
          "state": {
            "_model_module": "@jupyter-widgets/controls",
            "_model_module_version": "1.5.0",
            "_model_name": "DescriptionStyleModel",
            "_view_count": null,
            "_view_module": "@jupyter-widgets/base",
            "_view_module_version": "1.2.0",
            "_view_name": "StyleView",
            "description_width": ""
          }
        }
      }
    }
  },
  "cells": [
    {
      "cell_type": "markdown",
      "source": [
        "#Decision_Tree"
      ],
      "metadata": {
        "id": "5JRObmR3gvVi"
      }
    },
    {
      "cell_type": "markdown",
      "metadata": {
        "id": "geoElrUULqXM"
      },
      "source": [
        "---\n",
        "# **Table of Contents**\n",
        "---\n",
        "\n",
        "**1.** [**Problem Statement**](#Section1)<br>\n",
        "**2.** [**Objective**](#Section2)<br>\n",
        "**3.** [**Installing & Importing Libraries**](#Section3)<br>\n",
        "  - **3.1** [**Installing Libraries**](#Section31)\n",
        "  - **3.2** [**Upgrading Libraries**](#Section32)\n",
        "  - **3.3** [**Importing Libraries**](#Section33)\n",
        "\n",
        "**4.** [**Data Acquisition & Description**](#Section4)<br>\n",
        "  - **4.1** [**Data Description**](#Section41)<br>\n",
        "\n",
        "**5.** [**Data Pre-processing**](#Section5)<br>\n",
        "  - **5.1** [**Pre-Profiling Report**](#Section51)<br>\n",
        "\n",
        "**6.** [**Exploratory Data Analysis**](#Section6)<br>\n",
        "**7.** [**Post Data Processing**](#Section7)<br>\n",
        "  - **7.1** [**Feature Encoding**](#Section71)\n",
        "  - **7.2** [**Feature Scaling**](#Section72)\n",
        "  - **7.3** [**Data Preparation**](#Section73)\n",
        "\n",
        "**8.** [**Model Development & Evaluation**](#Section8)<br>\n",
        "**9.** [**Conclusion**](#Section9)<br>\n"
      ]
    },
    {
      "cell_type": "markdown",
      "metadata": {
        "id": "YHjJq99XLywk"
      },
      "source": [
        "---\n",
        "<a name = Section1></a>\n",
        "# **1. Problem Statement**\n",
        "---\n",
        "\n",
        "- Dream Housing Finance company deals in all home loans. They have a presence across all urban, semi-urban and rural areas. Customers first apply for a home loan after that company validates the customer’s eligibility for a loan..\n",
        "\n",
        "-  The company wants to automate the loan eligibility process (real-time) based on customer detail provided while filling out the online application form.\n",
        "\n",
        "- To automate this process, they have given a problem to identify the customer segments, that are eligible for loan amounts so that they can specifically target these customers.\n",
        "\n",
        "  - Try to create a model that will help to predict whether a loan would be approved or not."
      ]
    },
    {
      "cell_type": "markdown",
      "metadata": {
        "id": "CsyYFAX6Lunc"
      },
      "source": [
        "---\n",
        "<a name = Section2></a>\n",
        "# **2. Objective**\n",
        "---\n",
        "\n",
        "- The objective of this assignment is to classify and predict whether or not the borrower paid back their loan in full."
      ]
    },
    {
      "cell_type": "markdown",
      "metadata": {
        "id": "_FtD_ysnMEox"
      },
      "source": [
        "---\n",
        "<a name = Section3></a>\n",
        "# **3. Installing & Importing Libraries**\n",
        "---"
      ]
    },
    {
      "cell_type": "markdown",
      "metadata": {
        "id": "yqLwpfW9MGhS"
      },
      "source": [
        "<a name = Section31></a>\n",
        "### **3.1 Installing Libraries**"
      ]
    },
    {
      "cell_type": "code",
      "metadata": {
        "id": "ZLe1Ef4fFuOU",
        "colab": {
          "base_uri": "https://localhost:8080/"
        },
        "outputId": "08ef27bb-1c7d-4297-b223-582b2722ab68"
      },
      "source": [
        "!pip install -q datascience                                                       # Package that is required by pandas profiling\n",
        "!pip install -q pandas-profiling"
      ],
      "execution_count": null,
      "outputs": [
        {
          "output_type": "stream",
          "name": "stdout",
          "text": [
            "\u001b[?25l     \u001b[90m━━━━━━━━━━━━━━━━━━━━━━━━━━━━━━━━━━━━━━━━\u001b[0m \u001b[32m0.0/1.6 MB\u001b[0m \u001b[31m?\u001b[0m eta \u001b[36m-:--:--\u001b[0m\r\u001b[2K     \u001b[91m━━━━━━━━━━━━━━━━━━━━━━━━━━━━━━\u001b[0m\u001b[90m╺\u001b[0m\u001b[90m━━━━━━━━━\u001b[0m \u001b[32m1.2/1.6 MB\u001b[0m \u001b[31m35.7 MB/s\u001b[0m eta \u001b[36m0:00:01\u001b[0m\r\u001b[2K     \u001b[90m━━━━━━━━━━━━━━━━━━━━━━━━━━━━━━━━━━━━━━━━\u001b[0m \u001b[32m1.6/1.6 MB\u001b[0m \u001b[31m27.3 MB/s\u001b[0m eta \u001b[36m0:00:00\u001b[0m\n",
            "\u001b[?25h"
          ]
        }
      ]
    },
    {
      "cell_type": "markdown",
      "metadata": {
        "id": "5z7fjGTsMI7S"
      },
      "source": [
        "<a name = Section32></a>\n",
        "### **3.2 Upgrading Libraries**\n",
        "\n",
        "- **After upgrading** the libraries, you need to **restart the runtime** to make the libraries in sync.\n",
        "\n",
        "- Make sure not to execute the cell above (3.1) and below (3.2) again after restarting the runtime."
      ]
    },
    {
      "cell_type": "code",
      "metadata": {
        "id": "gWKFz2K1MIwH",
        "colab": {
          "base_uri": "https://localhost:8080/"
        },
        "outputId": "da8efdcf-e186-4e87-fff6-03eb301772b6"
      },
      "source": [
        "!pip install -q --upgrade pandas-profiling"
      ],
      "execution_count": null,
      "outputs": [
        {
          "output_type": "stream",
          "name": "stdout",
          "text": [
            "\u001b[2K     \u001b[90m━━━━━━━━━━━━━━━━━━━━━━━━━━━━━━━━━━━━━━━\u001b[0m \u001b[32m324.4/324.4 KB\u001b[0m \u001b[31m6.5 MB/s\u001b[0m eta \u001b[36m0:00:00\u001b[0m\n",
            "\u001b[2K     \u001b[90m━━━━━━━━━━━━━━━━━━━━━━━━━━━━━━━━━━━━━━\u001b[0m \u001b[32m345.9/345.9 KB\u001b[0m \u001b[31m22.4 MB/s\u001b[0m eta \u001b[36m0:00:00\u001b[0m\n",
            "\u001b[2K     \u001b[90m━━━━━━━━━━━━━━━━━━━━━━━━━━━━━━━━━━━━━━━━\u001b[0m \u001b[32m11.8/11.8 MB\u001b[0m \u001b[31m46.6 MB/s\u001b[0m eta \u001b[36m0:00:00\u001b[0m\n",
            "\u001b[2K     \u001b[90m━━━━━━━━━━━━━━━━━━━━━━━━━━━━━━━━━━━━━━━\u001b[0m \u001b[32m102.7/102.7 KB\u001b[0m \u001b[31m8.3 MB/s\u001b[0m eta \u001b[36m0:00:00\u001b[0m\n",
            "\u001b[2K     \u001b[90m━━━━━━━━━━━━━━━━━━━━━━━━━━━━━━━━━━━━━━━━\u001b[0m \u001b[32m33.8/33.8 MB\u001b[0m \u001b[31m25.1 MB/s\u001b[0m eta \u001b[36m0:00:00\u001b[0m\n",
            "\u001b[2K     \u001b[90m━━━━━━━━━━━━━━━━━━━━━━━━━━━━━━━━━━━━━━━━\u001b[0m \u001b[32m78.5/78.5 KB\u001b[0m \u001b[31m11.3 MB/s\u001b[0m eta \u001b[36m0:00:00\u001b[0m\n",
            "\u001b[?25h"
          ]
        }
      ]
    },
    {
      "cell_type": "markdown",
      "metadata": {
        "id": "Oo48nYBzMN66"
      },
      "source": [
        "<a name = Section33></a>\n",
        "### **3.3 Importing Libraries**"
      ]
    },
    {
      "cell_type": "code",
      "metadata": {
        "id": "_Rvxt5bCMIth"
      },
      "source": [
        "#-------------------------------------------------------------------------------------------------------------------------------\n",
        "import pandas as pd                                                               # Importing for panel data analysis\n",
        "#from pandas_profiling import ProfileReport                                        # Import Pandas Profiling (To generate Univariate Analysis)\n",
        "pd.set_option('display.max_columns', None)                                        # Unfolding hidden features if the cardinality is high\n",
        "pd.set_option('display.max_colwidth', None)                                       # Unfolding the max feature width for better clearity\n",
        "pd.set_option('display.max_rows', None)                                           # Unfolding hidden data points if the cardinality is high\n",
        "pd.set_option('mode.chained_assignment', None)                                    # Removing restriction over chained assignments operations\n",
        "#-------------------------------------------------------------------------------------------------------------------------------\n",
        "import numpy as np                                                                # Importing package numpys (For Numerical Python)\n",
        "#-------------------------------------------------------------------------------------------------------------------------------\n",
        "import matplotlib.pyplot as plt                                                   # Importing pyplot interface using matplotlib\n",
        "import seaborn as sns                                                             # Importing seaborm library for interactive visualization\n",
        "%matplotlib inline\n",
        "#-------------------------------------------------------------------------------------------------------------------------------\n",
        "from sklearn.preprocessing import StandardScaler                                  # Importing Standard Scaler library from preprocessing\n",
        "#-------------------------------------------------------------------------------------------------------------------------------\n",
        "from sklearn.model_selection import train_test_split                              # To split the data in training and testing part\n",
        "from sklearn.model_selection import cross_val_score                               # Importing cross validation score from model selection\n",
        "#-------------------------------------------------------------------------------------------------------------------------------\n",
        "from sklearn.tree import DecisionTreeClassifier                                   # Loading decision tree classifier from tree\n",
        "#-------------------------------------------------------------------------------------------------------------------------------\n",
        "from sklearn.metrics import precision_recall_curve                                # For precision and recall metric estimation\n",
        "from sklearn.metrics import classification_report                                 # To generate complete report of evaluation metrics\n",
        "from sklearn.metrics import ConfusionMatrixDisplay                                  # To plot confusion matrix\n",
        "#-------------------------------------------------------------------------------------------------------------------------------\n",
        "import warnings                                                                   # Importing warning to disable runtime warnings\n",
        "warnings.filterwarnings(\"ignore\")"
      ],
      "execution_count": null,
      "outputs": []
    },
    {
      "cell_type": "markdown",
      "metadata": {
        "id": "0ekYgS1oMtGM"
      },
      "source": [
        "---\n",
        "<a name = Section4></a>\n",
        "# **4. Data Acquisition & Description**\n",
        "---\n",
        "- The dataset has been provided by lending club and its description is shown below in the table.\n",
        "\n",
        "</br>\n",
        "\n",
        "| Records | Features | Dataset Size |\n",
        "| :-- | :-- | :-- |\n",
        "| 614 | 13 | 733 KB |\n",
        "\n",
        "</br>\n",
        "\n",
        "|Id|Feature|Description|\n",
        "|:--|:--|:--|\n",
        "|01|**Loan_ID**|Unique Loan ID|\n",
        "|02|**Gender**|Male/Female|\n",
        "|03|**Married**|\tApplicant married(Y/N) |\n",
        "|04|**Dependents**|Number of dependents|\n",
        "|05|**Education**|Applicant education(Graduate/Not Graduate)|\n",
        "|06|**Self_Employed**| Applicant Self-employed or not|\n",
        "|07|**ApplicantIncome**|Applicant Income|\n",
        "|08|**CoapplicantIncome**|Coapplicant Income|\n",
        "|09|**LoanAmount**|Loan Amount in thousands|\n",
        "|10|**Loan_Amount_Term**|Term of loan in months|\n",
        "|11|**Credit_History**|Does credit history meet guidelines|\n",
        "|12|**Property_Area**|Urban/Semi urban/Rural|\n",
        "|13|**Loan_Status**|Loan Approved (Y/N)|\n",
        "\n"
      ]
    },
    {
      "cell_type": "code",
      "metadata": {
        "colab": {
          "base_uri": "https://localhost:8080/",
          "height": 224
        },
        "id": "K-WAtc0tMIq9",
        "outputId": "787a271b-0b0d-42bf-c9eb-90bcf85c5b8a"
      },
      "source": [
        "data = pd.read_csv('https://gitlab.com/accredian/insaid-data/-/raw/main/Terms%202023/Term%205%20ML2/loan_prediction.csv')\n",
        "print('Data Shape:', data.shape)\n",
        "data.head()"
      ],
      "execution_count": null,
      "outputs": [
        {
          "output_type": "stream",
          "name": "stdout",
          "text": [
            "Data Shape: (614, 13)\n"
          ]
        },
        {
          "output_type": "execute_result",
          "data": {
            "text/plain": [
              "    Loan_ID Gender Married Dependents     Education Self_Employed  \\\n",
              "0  LP001002   Male      No          0      Graduate            No   \n",
              "1  LP001003   Male     Yes          1      Graduate            No   \n",
              "2  LP001005   Male     Yes          0      Graduate           Yes   \n",
              "3  LP001006   Male     Yes          0  Not Graduate            No   \n",
              "4  LP001008   Male      No          0      Graduate            No   \n",
              "\n",
              "   ApplicantIncome  CoapplicantIncome  LoanAmount  Loan_Amount_Term  \\\n",
              "0             5849                0.0         NaN             360.0   \n",
              "1             4583             1508.0       128.0             360.0   \n",
              "2             3000                0.0        66.0             360.0   \n",
              "3             2583             2358.0       120.0             360.0   \n",
              "4             6000                0.0       141.0             360.0   \n",
              "\n",
              "   Credit_History Property_Area Loan_Status  \n",
              "0             1.0         Urban           Y  \n",
              "1             1.0         Rural           N  \n",
              "2             1.0         Urban           Y  \n",
              "3             1.0         Urban           Y  \n",
              "4             1.0         Urban           Y  "
            ],
            "text/html": [
              "\n",
              "  <div id=\"df-58381dcc-09b1-4c45-81b4-400a9ed4b8f5\">\n",
              "    <div class=\"colab-df-container\">\n",
              "      <div>\n",
              "<style scoped>\n",
              "    .dataframe tbody tr th:only-of-type {\n",
              "        vertical-align: middle;\n",
              "    }\n",
              "\n",
              "    .dataframe tbody tr th {\n",
              "        vertical-align: top;\n",
              "    }\n",
              "\n",
              "    .dataframe thead th {\n",
              "        text-align: right;\n",
              "    }\n",
              "</style>\n",
              "<table border=\"1\" class=\"dataframe\">\n",
              "  <thead>\n",
              "    <tr style=\"text-align: right;\">\n",
              "      <th></th>\n",
              "      <th>Loan_ID</th>\n",
              "      <th>Gender</th>\n",
              "      <th>Married</th>\n",
              "      <th>Dependents</th>\n",
              "      <th>Education</th>\n",
              "      <th>Self_Employed</th>\n",
              "      <th>ApplicantIncome</th>\n",
              "      <th>CoapplicantIncome</th>\n",
              "      <th>LoanAmount</th>\n",
              "      <th>Loan_Amount_Term</th>\n",
              "      <th>Credit_History</th>\n",
              "      <th>Property_Area</th>\n",
              "      <th>Loan_Status</th>\n",
              "    </tr>\n",
              "  </thead>\n",
              "  <tbody>\n",
              "    <tr>\n",
              "      <th>0</th>\n",
              "      <td>LP001002</td>\n",
              "      <td>Male</td>\n",
              "      <td>No</td>\n",
              "      <td>0</td>\n",
              "      <td>Graduate</td>\n",
              "      <td>No</td>\n",
              "      <td>5849</td>\n",
              "      <td>0.0</td>\n",
              "      <td>NaN</td>\n",
              "      <td>360.0</td>\n",
              "      <td>1.0</td>\n",
              "      <td>Urban</td>\n",
              "      <td>Y</td>\n",
              "    </tr>\n",
              "    <tr>\n",
              "      <th>1</th>\n",
              "      <td>LP001003</td>\n",
              "      <td>Male</td>\n",
              "      <td>Yes</td>\n",
              "      <td>1</td>\n",
              "      <td>Graduate</td>\n",
              "      <td>No</td>\n",
              "      <td>4583</td>\n",
              "      <td>1508.0</td>\n",
              "      <td>128.0</td>\n",
              "      <td>360.0</td>\n",
              "      <td>1.0</td>\n",
              "      <td>Rural</td>\n",
              "      <td>N</td>\n",
              "    </tr>\n",
              "    <tr>\n",
              "      <th>2</th>\n",
              "      <td>LP001005</td>\n",
              "      <td>Male</td>\n",
              "      <td>Yes</td>\n",
              "      <td>0</td>\n",
              "      <td>Graduate</td>\n",
              "      <td>Yes</td>\n",
              "      <td>3000</td>\n",
              "      <td>0.0</td>\n",
              "      <td>66.0</td>\n",
              "      <td>360.0</td>\n",
              "      <td>1.0</td>\n",
              "      <td>Urban</td>\n",
              "      <td>Y</td>\n",
              "    </tr>\n",
              "    <tr>\n",
              "      <th>3</th>\n",
              "      <td>LP001006</td>\n",
              "      <td>Male</td>\n",
              "      <td>Yes</td>\n",
              "      <td>0</td>\n",
              "      <td>Not Graduate</td>\n",
              "      <td>No</td>\n",
              "      <td>2583</td>\n",
              "      <td>2358.0</td>\n",
              "      <td>120.0</td>\n",
              "      <td>360.0</td>\n",
              "      <td>1.0</td>\n",
              "      <td>Urban</td>\n",
              "      <td>Y</td>\n",
              "    </tr>\n",
              "    <tr>\n",
              "      <th>4</th>\n",
              "      <td>LP001008</td>\n",
              "      <td>Male</td>\n",
              "      <td>No</td>\n",
              "      <td>0</td>\n",
              "      <td>Graduate</td>\n",
              "      <td>No</td>\n",
              "      <td>6000</td>\n",
              "      <td>0.0</td>\n",
              "      <td>141.0</td>\n",
              "      <td>360.0</td>\n",
              "      <td>1.0</td>\n",
              "      <td>Urban</td>\n",
              "      <td>Y</td>\n",
              "    </tr>\n",
              "  </tbody>\n",
              "</table>\n",
              "</div>\n",
              "      <button class=\"colab-df-convert\" onclick=\"convertToInteractive('df-58381dcc-09b1-4c45-81b4-400a9ed4b8f5')\"\n",
              "              title=\"Convert this dataframe to an interactive table.\"\n",
              "              style=\"display:none;\">\n",
              "        \n",
              "  <svg xmlns=\"http://www.w3.org/2000/svg\" height=\"24px\"viewBox=\"0 0 24 24\"\n",
              "       width=\"24px\">\n",
              "    <path d=\"M0 0h24v24H0V0z\" fill=\"none\"/>\n",
              "    <path d=\"M18.56 5.44l.94 2.06.94-2.06 2.06-.94-2.06-.94-.94-2.06-.94 2.06-2.06.94zm-11 1L8.5 8.5l.94-2.06 2.06-.94-2.06-.94L8.5 2.5l-.94 2.06-2.06.94zm10 10l.94 2.06.94-2.06 2.06-.94-2.06-.94-.94-2.06-.94 2.06-2.06.94z\"/><path d=\"M17.41 7.96l-1.37-1.37c-.4-.4-.92-.59-1.43-.59-.52 0-1.04.2-1.43.59L10.3 9.45l-7.72 7.72c-.78.78-.78 2.05 0 2.83L4 21.41c.39.39.9.59 1.41.59.51 0 1.02-.2 1.41-.59l7.78-7.78 2.81-2.81c.8-.78.8-2.07 0-2.86zM5.41 20L4 18.59l7.72-7.72 1.47 1.35L5.41 20z\"/>\n",
              "  </svg>\n",
              "      </button>\n",
              "      \n",
              "  <style>\n",
              "    .colab-df-container {\n",
              "      display:flex;\n",
              "      flex-wrap:wrap;\n",
              "      gap: 12px;\n",
              "    }\n",
              "\n",
              "    .colab-df-convert {\n",
              "      background-color: #E8F0FE;\n",
              "      border: none;\n",
              "      border-radius: 50%;\n",
              "      cursor: pointer;\n",
              "      display: none;\n",
              "      fill: #1967D2;\n",
              "      height: 32px;\n",
              "      padding: 0 0 0 0;\n",
              "      width: 32px;\n",
              "    }\n",
              "\n",
              "    .colab-df-convert:hover {\n",
              "      background-color: #E2EBFA;\n",
              "      box-shadow: 0px 1px 2px rgba(60, 64, 67, 0.3), 0px 1px 3px 1px rgba(60, 64, 67, 0.15);\n",
              "      fill: #174EA6;\n",
              "    }\n",
              "\n",
              "    [theme=dark] .colab-df-convert {\n",
              "      background-color: #3B4455;\n",
              "      fill: #D2E3FC;\n",
              "    }\n",
              "\n",
              "    [theme=dark] .colab-df-convert:hover {\n",
              "      background-color: #434B5C;\n",
              "      box-shadow: 0px 1px 3px 1px rgba(0, 0, 0, 0.15);\n",
              "      filter: drop-shadow(0px 1px 2px rgba(0, 0, 0, 0.3));\n",
              "      fill: #FFFFFF;\n",
              "    }\n",
              "  </style>\n",
              "\n",
              "      <script>\n",
              "        const buttonEl =\n",
              "          document.querySelector('#df-58381dcc-09b1-4c45-81b4-400a9ed4b8f5 button.colab-df-convert');\n",
              "        buttonEl.style.display =\n",
              "          google.colab.kernel.accessAllowed ? 'block' : 'none';\n",
              "\n",
              "        async function convertToInteractive(key) {\n",
              "          const element = document.querySelector('#df-58381dcc-09b1-4c45-81b4-400a9ed4b8f5');\n",
              "          const dataTable =\n",
              "            await google.colab.kernel.invokeFunction('convertToInteractive',\n",
              "                                                     [key], {});\n",
              "          if (!dataTable) return;\n",
              "\n",
              "          const docLinkHtml = 'Like what you see? Visit the ' +\n",
              "            '<a target=\"_blank\" href=https://colab.research.google.com/notebooks/data_table.ipynb>data table notebook</a>'\n",
              "            + ' to learn more about interactive tables.';\n",
              "          element.innerHTML = '';\n",
              "          dataTable['output_type'] = 'display_data';\n",
              "          await google.colab.output.renderOutput(dataTable, element);\n",
              "          const docLink = document.createElement('div');\n",
              "          docLink.innerHTML = docLinkHtml;\n",
              "          element.appendChild(docLink);\n",
              "        }\n",
              "      </script>\n",
              "    </div>\n",
              "  </div>\n",
              "  "
            ]
          },
          "metadata": {},
          "execution_count": 5
        }
      ]
    },
    {
      "cell_type": "markdown",
      "metadata": {
        "id": "ucDJhq89Rcia"
      },
      "source": [
        "<a name = Section41></a>\n",
        "### **4.1 Data Description**\n",
        "\n",
        "- In this section we will get **description** and **statistics** about the data."
      ]
    },
    {
      "cell_type": "code",
      "metadata": {
        "colab": {
          "base_uri": "https://localhost:8080/",
          "height": 300
        },
        "id": "NYHIoTKeMIlq",
        "outputId": "d8218da1-fe8e-4eb4-89f9-21b0b30e67d8"
      },
      "source": [
        "data.describe()"
      ],
      "execution_count": null,
      "outputs": [
        {
          "output_type": "execute_result",
          "data": {
            "text/plain": [
              "       ApplicantIncome  CoapplicantIncome  LoanAmount  Loan_Amount_Term  \\\n",
              "count       614.000000         614.000000  592.000000         600.00000   \n",
              "mean       5403.459283        1621.245798  146.412162         342.00000   \n",
              "std        6109.041673        2926.248369   85.587325          65.12041   \n",
              "min         150.000000           0.000000    9.000000          12.00000   \n",
              "25%        2877.500000           0.000000  100.000000         360.00000   \n",
              "50%        3812.500000        1188.500000  128.000000         360.00000   \n",
              "75%        5795.000000        2297.250000  168.000000         360.00000   \n",
              "max       81000.000000       41667.000000  700.000000         480.00000   \n",
              "\n",
              "       Credit_History  \n",
              "count      564.000000  \n",
              "mean         0.842199  \n",
              "std          0.364878  \n",
              "min          0.000000  \n",
              "25%          1.000000  \n",
              "50%          1.000000  \n",
              "75%          1.000000  \n",
              "max          1.000000  "
            ],
            "text/html": [
              "\n",
              "  <div id=\"df-d4d175d2-5594-4115-b246-a5e6aced15f8\">\n",
              "    <div class=\"colab-df-container\">\n",
              "      <div>\n",
              "<style scoped>\n",
              "    .dataframe tbody tr th:only-of-type {\n",
              "        vertical-align: middle;\n",
              "    }\n",
              "\n",
              "    .dataframe tbody tr th {\n",
              "        vertical-align: top;\n",
              "    }\n",
              "\n",
              "    .dataframe thead th {\n",
              "        text-align: right;\n",
              "    }\n",
              "</style>\n",
              "<table border=\"1\" class=\"dataframe\">\n",
              "  <thead>\n",
              "    <tr style=\"text-align: right;\">\n",
              "      <th></th>\n",
              "      <th>ApplicantIncome</th>\n",
              "      <th>CoapplicantIncome</th>\n",
              "      <th>LoanAmount</th>\n",
              "      <th>Loan_Amount_Term</th>\n",
              "      <th>Credit_History</th>\n",
              "    </tr>\n",
              "  </thead>\n",
              "  <tbody>\n",
              "    <tr>\n",
              "      <th>count</th>\n",
              "      <td>614.000000</td>\n",
              "      <td>614.000000</td>\n",
              "      <td>592.000000</td>\n",
              "      <td>600.00000</td>\n",
              "      <td>564.000000</td>\n",
              "    </tr>\n",
              "    <tr>\n",
              "      <th>mean</th>\n",
              "      <td>5403.459283</td>\n",
              "      <td>1621.245798</td>\n",
              "      <td>146.412162</td>\n",
              "      <td>342.00000</td>\n",
              "      <td>0.842199</td>\n",
              "    </tr>\n",
              "    <tr>\n",
              "      <th>std</th>\n",
              "      <td>6109.041673</td>\n",
              "      <td>2926.248369</td>\n",
              "      <td>85.587325</td>\n",
              "      <td>65.12041</td>\n",
              "      <td>0.364878</td>\n",
              "    </tr>\n",
              "    <tr>\n",
              "      <th>min</th>\n",
              "      <td>150.000000</td>\n",
              "      <td>0.000000</td>\n",
              "      <td>9.000000</td>\n",
              "      <td>12.00000</td>\n",
              "      <td>0.000000</td>\n",
              "    </tr>\n",
              "    <tr>\n",
              "      <th>25%</th>\n",
              "      <td>2877.500000</td>\n",
              "      <td>0.000000</td>\n",
              "      <td>100.000000</td>\n",
              "      <td>360.00000</td>\n",
              "      <td>1.000000</td>\n",
              "    </tr>\n",
              "    <tr>\n",
              "      <th>50%</th>\n",
              "      <td>3812.500000</td>\n",
              "      <td>1188.500000</td>\n",
              "      <td>128.000000</td>\n",
              "      <td>360.00000</td>\n",
              "      <td>1.000000</td>\n",
              "    </tr>\n",
              "    <tr>\n",
              "      <th>75%</th>\n",
              "      <td>5795.000000</td>\n",
              "      <td>2297.250000</td>\n",
              "      <td>168.000000</td>\n",
              "      <td>360.00000</td>\n",
              "      <td>1.000000</td>\n",
              "    </tr>\n",
              "    <tr>\n",
              "      <th>max</th>\n",
              "      <td>81000.000000</td>\n",
              "      <td>41667.000000</td>\n",
              "      <td>700.000000</td>\n",
              "      <td>480.00000</td>\n",
              "      <td>1.000000</td>\n",
              "    </tr>\n",
              "  </tbody>\n",
              "</table>\n",
              "</div>\n",
              "      <button class=\"colab-df-convert\" onclick=\"convertToInteractive('df-d4d175d2-5594-4115-b246-a5e6aced15f8')\"\n",
              "              title=\"Convert this dataframe to an interactive table.\"\n",
              "              style=\"display:none;\">\n",
              "        \n",
              "  <svg xmlns=\"http://www.w3.org/2000/svg\" height=\"24px\"viewBox=\"0 0 24 24\"\n",
              "       width=\"24px\">\n",
              "    <path d=\"M0 0h24v24H0V0z\" fill=\"none\"/>\n",
              "    <path d=\"M18.56 5.44l.94 2.06.94-2.06 2.06-.94-2.06-.94-.94-2.06-.94 2.06-2.06.94zm-11 1L8.5 8.5l.94-2.06 2.06-.94-2.06-.94L8.5 2.5l-.94 2.06-2.06.94zm10 10l.94 2.06.94-2.06 2.06-.94-2.06-.94-.94-2.06-.94 2.06-2.06.94z\"/><path d=\"M17.41 7.96l-1.37-1.37c-.4-.4-.92-.59-1.43-.59-.52 0-1.04.2-1.43.59L10.3 9.45l-7.72 7.72c-.78.78-.78 2.05 0 2.83L4 21.41c.39.39.9.59 1.41.59.51 0 1.02-.2 1.41-.59l7.78-7.78 2.81-2.81c.8-.78.8-2.07 0-2.86zM5.41 20L4 18.59l7.72-7.72 1.47 1.35L5.41 20z\"/>\n",
              "  </svg>\n",
              "      </button>\n",
              "      \n",
              "  <style>\n",
              "    .colab-df-container {\n",
              "      display:flex;\n",
              "      flex-wrap:wrap;\n",
              "      gap: 12px;\n",
              "    }\n",
              "\n",
              "    .colab-df-convert {\n",
              "      background-color: #E8F0FE;\n",
              "      border: none;\n",
              "      border-radius: 50%;\n",
              "      cursor: pointer;\n",
              "      display: none;\n",
              "      fill: #1967D2;\n",
              "      height: 32px;\n",
              "      padding: 0 0 0 0;\n",
              "      width: 32px;\n",
              "    }\n",
              "\n",
              "    .colab-df-convert:hover {\n",
              "      background-color: #E2EBFA;\n",
              "      box-shadow: 0px 1px 2px rgba(60, 64, 67, 0.3), 0px 1px 3px 1px rgba(60, 64, 67, 0.15);\n",
              "      fill: #174EA6;\n",
              "    }\n",
              "\n",
              "    [theme=dark] .colab-df-convert {\n",
              "      background-color: #3B4455;\n",
              "      fill: #D2E3FC;\n",
              "    }\n",
              "\n",
              "    [theme=dark] .colab-df-convert:hover {\n",
              "      background-color: #434B5C;\n",
              "      box-shadow: 0px 1px 3px 1px rgba(0, 0, 0, 0.15);\n",
              "      filter: drop-shadow(0px 1px 2px rgba(0, 0, 0, 0.3));\n",
              "      fill: #FFFFFF;\n",
              "    }\n",
              "  </style>\n",
              "\n",
              "      <script>\n",
              "        const buttonEl =\n",
              "          document.querySelector('#df-d4d175d2-5594-4115-b246-a5e6aced15f8 button.colab-df-convert');\n",
              "        buttonEl.style.display =\n",
              "          google.colab.kernel.accessAllowed ? 'block' : 'none';\n",
              "\n",
              "        async function convertToInteractive(key) {\n",
              "          const element = document.querySelector('#df-d4d175d2-5594-4115-b246-a5e6aced15f8');\n",
              "          const dataTable =\n",
              "            await google.colab.kernel.invokeFunction('convertToInteractive',\n",
              "                                                     [key], {});\n",
              "          if (!dataTable) return;\n",
              "\n",
              "          const docLinkHtml = 'Like what you see? Visit the ' +\n",
              "            '<a target=\"_blank\" href=https://colab.research.google.com/notebooks/data_table.ipynb>data table notebook</a>'\n",
              "            + ' to learn more about interactive tables.';\n",
              "          element.innerHTML = '';\n",
              "          dataTable['output_type'] = 'display_data';\n",
              "          await google.colab.output.renderOutput(dataTable, element);\n",
              "          const docLink = document.createElement('div');\n",
              "          docLink.innerHTML = docLinkHtml;\n",
              "          element.appendChild(docLink);\n",
              "        }\n",
              "      </script>\n",
              "    </div>\n",
              "  </div>\n",
              "  "
            ]
          },
          "metadata": {},
          "execution_count": 6
        }
      ]
    },
    {
      "cell_type": "markdown",
      "metadata": {
        "id": "JDk1cRj6Rh4H"
      },
      "source": [
        "**Observations:**\n"
      ]
    },
    {
      "cell_type": "markdown",
      "metadata": {
        "id": "pEiefF8wT0em"
      },
      "source": [
        "<a name = Section42></a>\n",
        "### **4.2 Data Information**\n",
        "\n",
        " - In this section, we will get **information about the data** and see some observations.\n"
      ]
    },
    {
      "cell_type": "code",
      "source": [
        "data['Loan_Status'].value_counts()"
      ],
      "metadata": {
        "colab": {
          "base_uri": "https://localhost:8080/"
        },
        "id": "3xaDDIbA72LM",
        "outputId": "0df70644-578c-4453-8f34-155aa5bc6f21"
      },
      "execution_count": null,
      "outputs": [
        {
          "output_type": "execute_result",
          "data": {
            "text/plain": [
              "Y    422\n",
              "N    192\n",
              "Name: Loan_Status, dtype: int64"
            ]
          },
          "metadata": {},
          "execution_count": 291
        }
      ]
    },
    {
      "cell_type": "code",
      "source": [
        "data['Dependents'] = data['Dependents'].replace(['3+'], '3')"
      ],
      "metadata": {
        "id": "fE-H2NYhFwPi"
      },
      "execution_count": null,
      "outputs": []
    },
    {
      "cell_type": "code",
      "metadata": {
        "colab": {
          "base_uri": "https://localhost:8080/"
        },
        "id": "RG46ZJvNMIi0",
        "outputId": "c2d30105-05f2-4853-8f9a-e037cda325ee"
      },
      "source": [
        "data.info()"
      ],
      "execution_count": null,
      "outputs": [
        {
          "output_type": "stream",
          "name": "stdout",
          "text": [
            "<class 'pandas.core.frame.DataFrame'>\n",
            "RangeIndex: 614 entries, 0 to 613\n",
            "Data columns (total 13 columns):\n",
            " #   Column             Non-Null Count  Dtype  \n",
            "---  ------             --------------  -----  \n",
            " 0   Loan_ID            614 non-null    object \n",
            " 1   Gender             601 non-null    object \n",
            " 2   Married            611 non-null    object \n",
            " 3   Dependents         599 non-null    object \n",
            " 4   Education          614 non-null    object \n",
            " 5   Self_Employed      582 non-null    object \n",
            " 6   ApplicantIncome    614 non-null    int64  \n",
            " 7   CoapplicantIncome  614 non-null    float64\n",
            " 8   LoanAmount         592 non-null    float64\n",
            " 9   Loan_Amount_Term   600 non-null    float64\n",
            " 10  Credit_History     564 non-null    float64\n",
            " 11  Property_Area      614 non-null    object \n",
            " 12  Loan_Status        614 non-null    object \n",
            "dtypes: float64(4), int64(1), object(8)\n",
            "memory usage: 62.5+ KB\n"
          ]
        }
      ]
    },
    {
      "cell_type": "markdown",
      "metadata": {
        "id": "ymESnMzDT6pU"
      },
      "source": [
        "**Observation:**\n",
        "\n",
        "- We can observe that there is **no null data present** and all the **features** have **correct data types**."
      ]
    },
    {
      "cell_type": "code",
      "source": [
        "data['Loan_Amount_Term'].value_counts()"
      ],
      "metadata": {
        "colab": {
          "base_uri": "https://localhost:8080/"
        },
        "id": "ZIE3M5mi5eJi",
        "outputId": "1dc8d3c0-799b-4315-c654-6f4a788ea36a"
      },
      "execution_count": null,
      "outputs": [
        {
          "output_type": "execute_result",
          "data": {
            "text/plain": [
              "360.0    512\n",
              "180.0     44\n",
              "480.0     15\n",
              "300.0     13\n",
              "240.0      4\n",
              "84.0       4\n",
              "120.0      3\n",
              "60.0       2\n",
              "36.0       2\n",
              "12.0       1\n",
              "Name: Loan_Amount_Term, dtype: int64"
            ]
          },
          "metadata": {},
          "execution_count": 294
        }
      ]
    },
    {
      "cell_type": "markdown",
      "metadata": {
        "id": "Jz-ZeVynUIGE"
      },
      "source": [
        "<a name = Section5></a>\n",
        "\n",
        "---\n",
        "# **5. Data Pre-Processing**\n",
        "---"
      ]
    },
    {
      "cell_type": "markdown",
      "metadata": {
        "id": "DKAjCZF3UV7F"
      },
      "source": [
        "<a name = Section51></a>\n",
        "### **5.1 Pre Profiling Report**"
      ]
    },
    {
      "cell_type": "code",
      "metadata": {
        "id": "zRV-xLIvMIgO",
        "colab": {
          "base_uri": "https://localhost:8080/",
          "height": 162,
          "referenced_widgets": [
            "688b08ee55554f138c9a91231034b042",
            "e3de406ea84343068f3b9dbf40ffa19d",
            "16ce1bd36ef24664a6cd2e8dcee50def",
            "ff497b3491cb4a3f9ec178ebc12fe99e",
            "cca52e2fa16548c7bb9aaf7d5f7114bf",
            "de3b1079e38c45268a32f0237073c5a6",
            "5750ff9267474015b62577875b38ef47",
            "aa3b33e4cdc44de4afdd6241d10f736a",
            "8d11712512dd4d9386c5ec377ef81c37",
            "e60069acc67643af86b5cd3aa8fa97a0",
            "fc3f6558e8794e3e8dc92924c9d0882a",
            "782de92fd09a4ca794dcf8ed64f4639e",
            "e063230a68364fc881823b9ad4e9fde7",
            "a81c9074c85848ed94974ba887bbc1a4",
            "899955c8fdba4fb4bfc6c87bbc0d00c8",
            "6be32018e1a542f5ac0eb237624e9448",
            "df6395a576f347bb94432b1b5968a5e6",
            "72f28041f0e3498ab97438962549c18f",
            "320f19640a6741fc83b2cc7e498fdc91",
            "5d6ba88a478d4a9f88100e39264f59f1",
            "da13ca067275437888e64a917d35ebbb",
            "380882df2f884648be34933eef4cda15",
            "b8d084114add4febb8d97ff3a34e020f",
            "495f0cffbae548409278c674aa43b9ef",
            "d4a75f0511ef4368a6b716b917d21a40",
            "8ea254a8166844d6b2a4aff9632e71cb",
            "c0041dad2f2a4f07ab01c03139cb45c3",
            "8a9fbf7331d04137ac8dacc26d2a8db9",
            "974c39c660b94cbe870b5b601957cd3b",
            "1058da51623b4ee08a8d5240531c04be",
            "929a828fa321478b8a03e8b6ed9683ef",
            "224fcbcf8a054eaf8992ebba521cac2e",
            "9b3a7418ce734720a7b3c802a6e9f0ff",
            "6d6f96444a8f4205ab25645791b58e50",
            "8fdc9df0310143858229f65981a4cd73",
            "d2852d4d61cd403fae4f3618cda0f21d",
            "24018d0d97694c7ca6b59559dfe0ae11",
            "f538c981ad17404eb4301d2a723b980a",
            "6fcbe370540c4f20bd446e741e379bcf",
            "33d024ae09ea40ea945382849bf72c8b",
            "6b0b7ff3c16f4c7587337e7337e537e1",
            "53de1a0aa3044a51b8290c86321bbd83",
            "131c137d4c0e4ee39e6a0c2c70e30e1e",
            "fecdc04e47c44602a608e0211e0afb7f"
          ]
        },
        "outputId": "69b699b3-302c-4434-ccf0-3ea481e73e65"
      },
      "source": [
        "profile = ProfileReport(df=data)\n",
        "profile.to_file(output_file='Pre Profiling Report.html')\n",
        "print('Accomplished!')"
      ],
      "execution_count": null,
      "outputs": [
        {
          "output_type": "display_data",
          "data": {
            "text/plain": [
              "Summarize dataset:   0%|          | 0/5 [00:00<?, ?it/s]"
            ],
            "application/vnd.jupyter.widget-view+json": {
              "version_major": 2,
              "version_minor": 0,
              "model_id": "688b08ee55554f138c9a91231034b042"
            }
          },
          "metadata": {}
        },
        {
          "output_type": "display_data",
          "data": {
            "text/plain": [
              "Generate report structure:   0%|          | 0/1 [00:00<?, ?it/s]"
            ],
            "application/vnd.jupyter.widget-view+json": {
              "version_major": 2,
              "version_minor": 0,
              "model_id": "782de92fd09a4ca794dcf8ed64f4639e"
            }
          },
          "metadata": {}
        },
        {
          "output_type": "display_data",
          "data": {
            "text/plain": [
              "Render HTML:   0%|          | 0/1 [00:00<?, ?it/s]"
            ],
            "application/vnd.jupyter.widget-view+json": {
              "version_major": 2,
              "version_minor": 0,
              "model_id": "b8d084114add4febb8d97ff3a34e020f"
            }
          },
          "metadata": {}
        },
        {
          "output_type": "display_data",
          "data": {
            "text/plain": [
              "Export report to file:   0%|          | 0/1 [00:00<?, ?it/s]"
            ],
            "application/vnd.jupyter.widget-view+json": {
              "version_major": 2,
              "version_minor": 0,
              "model_id": "6d6f96444a8f4205ab25645791b58e50"
            }
          },
          "metadata": {}
        },
        {
          "output_type": "stream",
          "name": "stdout",
          "text": [
            "Accomplished!\n"
          ]
        }
      ]
    },
    {
      "cell_type": "markdown",
      "metadata": {
        "id": "AY2U0YaBU8hp"
      },
      "source": [
        "**Observations:**\n"
      ]
    },
    {
      "cell_type": "markdown",
      "metadata": {
        "id": "LvHFLuqRzdYr"
      },
      "source": [
        "**Peforming Cleaning Operations**"
      ]
    },
    {
      "cell_type": "markdown",
      "metadata": {
        "id": "f6-BGLRZz7wy"
      },
      "source": [
        "---\n",
        "**<h4>Question 1:** Create a function that **imputes** the missing value replacing with \"**mean**\" and \"**mode**\" values.</h4>\n",
        "\n",
        "---\n",
        "\n",
        "<details>\n",
        "\n",
        "**<summary>Hint:</summary>**\n",
        "\n",
        "- You can use `.fillna(df[col])`.\n",
        "\n",
        "</details>"
      ]
    },
    {
      "cell_type": "code",
      "metadata": {
        "id": "1flHc_sD0SXa"
      },
      "source": [
        "def impute_missing(data=None):\n",
        "  # Filling the missing values of feature with the median.\n",
        "  data.fillna({'Gender': data['Gender'].mode()[0],'Married':data['Married'].mode()[0], 'Dependents': data['Dependents'].mode()[0],'Self_Employed': data['Self_Employed'].mode()[0],'LoanAmount': data['LoanAmount'].mean(),'Loan_Amount_Term': data['Loan_Amount_Term'].mode()[0],'Credit_History': data['Credit_History'].mode()[0]}, inplace=True)\n",
        "  return data.isna().sum()"
      ],
      "execution_count": null,
      "outputs": []
    },
    {
      "cell_type": "code",
      "source": [
        "impute_missing(data=data)"
      ],
      "metadata": {
        "colab": {
          "base_uri": "https://localhost:8080/"
        },
        "id": "OwTg33JnHWq8",
        "outputId": "cd0d17a7-753a-40cb-fc6d-5bbae2cc09b8"
      },
      "execution_count": null,
      "outputs": [
        {
          "output_type": "execute_result",
          "data": {
            "text/plain": [
              "Loan_ID              0\n",
              "Gender               0\n",
              "Married              0\n",
              "Dependents           0\n",
              "Education            0\n",
              "Self_Employed        0\n",
              "ApplicantIncome      0\n",
              "CoapplicantIncome    0\n",
              "LoanAmount           0\n",
              "Loan_Amount_Term     0\n",
              "Credit_History       0\n",
              "Property_Area        0\n",
              "Loan_Status          0\n",
              "dtype: int64"
            ]
          },
          "metadata": {},
          "execution_count": 39
        }
      ]
    },
    {
      "cell_type": "code",
      "source": [
        "data['Loan_Status'].value_counts()"
      ],
      "metadata": {
        "colab": {
          "base_uri": "https://localhost:8080/"
        },
        "id": "8PmuiL-ossXz",
        "outputId": "606fbf6f-e2cd-4872-a23e-7c94f5dfe708"
      },
      "execution_count": null,
      "outputs": [
        {
          "output_type": "execute_result",
          "data": {
            "text/plain": [
              "Y    422\n",
              "N    192\n",
              "Name: Loan_Status, dtype: int64"
            ]
          },
          "metadata": {},
          "execution_count": 38
        }
      ]
    },
    {
      "cell_type": "markdown",
      "source": [
        "---\n",
        "**<h4>Question 2:** Create a function that transform Dependents to correct data type.</h4>\n",
        "\n",
        "---\n",
        "\n",
        "<details>\n",
        "\n",
        "**<summary>Hint:</summary>**\n",
        "\n",
        "- You can use pandas .as_type() functionality to handle inconsistent data types.\n",
        "\n",
        "</details>"
      ],
      "metadata": {
        "id": "SN0HmRJk8Xc6"
      }
    },
    {
      "cell_type": "code",
      "source": [
        "def CorrectType(feature=None, type=None):\n",
        "  data[feature] = data[feature].astype(type)"
      ],
      "metadata": {
        "id": "0C2ZMNwl8TXg"
      },
      "execution_count": null,
      "outputs": []
    },
    {
      "cell_type": "code",
      "source": [
        "CorrectType(feature='Dependents', type=int)"
      ],
      "metadata": {
        "id": "ZLw95LcQ8goT"
      },
      "execution_count": null,
      "outputs": []
    },
    {
      "cell_type": "markdown",
      "metadata": {
        "id": "QbZ4RJLweGQM"
      },
      "source": [
        "<a name = Section6></a>\n",
        "\n",
        "---\n",
        "# **6. Exploratory Data Analysis**\n",
        "---"
      ]
    },
    {
      "cell_type": "markdown",
      "metadata": {
        "id": "ALAJqj3vaUpM"
      },
      "source": [
        "---\n",
        "**<h4>Question 3:** Create a function that generate distribution of our target feature.</h4>\n",
        "\n",
        "---\n",
        "\n",
        "<details>\n",
        "\n",
        "**<summary>Hint:</summary>**\n",
        "\n",
        "- You can plot the barplot/pieplot.\n",
        "\n",
        "</details>"
      ]
    },
    {
      "cell_type": "code",
      "metadata": {
        "id": "u6W6T_I5MIdd"
      },
      "source": [
        "def plot_target():\n",
        "  # Create a figure of 10 x 7 inches\n",
        "  fig = plt.figure(figsize=(10, 7))\n",
        "  # Plot a pieplot for Loan_Status features..\n",
        "  data['Loan_Status'].value_counts().plot(kind='pie', cmap='Accent')\n",
        "  # Set x, y labels of size 14, ticks of size 12 and title label of size 16.\n",
        "  plt.xlabel(xlabel='Y=yes N=No', size=14)\n",
        "  plt.xticks(size=12)\n",
        "  plt.yticks(size=12)\n",
        "  plt.title(label='Loan status', size=16)\n",
        "\n",
        "  # Put a grid\n",
        "  plt.grid(True)\n",
        "\n",
        "  # Display the plot\n",
        "  plt.show()"
      ],
      "execution_count": null,
      "outputs": []
    },
    {
      "cell_type": "code",
      "metadata": {
        "colab": {
          "base_uri": "https://localhost:8080/",
          "height": 447
        },
        "id": "sGGhTemOMIay",
        "outputId": "859f1b9e-fdfd-44ba-8464-cff7c4b19bf4"
      },
      "source": [
        "plot_target()"
      ],
      "execution_count": null,
      "outputs": [
        {
          "output_type": "display_data",
          "data": {
            "text/plain": [
              "<Figure size 720x504 with 1 Axes>"
            ],
            "image/png": "[encoded data removed]"
          },
          "metadata": {}
        }
      ]
    },
    {
      "cell_type": "markdown",
      "metadata": {
        "id": "Ssw7Jz8ZhvDC"
      },
      "source": [
        "---\n",
        "**<h4>Question 4:** Create a function that shows association between loan status and education feature.</h4>\n",
        "\n",
        "---\n",
        "\n",
        "<details>\n",
        "\n",
        "**<summary>Hint:</summary>**\n",
        "\n",
        "- You can plot the barplot and plot frequencies of categories using seaborn countplot function.\n",
        "\n",
        "- You can use hue parameter for the loan status feature and add some cosmetics to make you graph look better.\n",
        "\n",
        "</details>"
      ]
    },
    {
      "cell_type": "code",
      "metadata": {
        "id": "3bXUBF4NfEwF"
      },
      "source": [
        "def Educationimpact():\n",
        "  # Initiating a figure size of 15 X 7 inches\n",
        "  plt.figure(figsize=(15, 7))\n",
        "\n",
        "  # Plot histogram using seaborn api\n",
        "  sns.countplot(x='Education', hue='Loan_Status', data=data, palette='Set2')\n",
        "  plt.legend(labels=['Loan approved', 'Loan rejected'])\n",
        "\n",
        "  # Add some cosmetics\n",
        "  plt.xticks(size=12)\n",
        "  plt.yticks(size=12)\n",
        "  plt.xlabel(xlabel='Education', size=14)\n",
        "  plt.ylabel(ylabel='Frequency', size=14)\n",
        "  plt.title(label='Education vs Loan_Status', size=16)\n",
        "  plt.grid(True)\n",
        "\n",
        "  # Display the figure\n",
        "  plt.show()"
      ],
      "execution_count": null,
      "outputs": []
    },
    {
      "cell_type": "code",
      "metadata": {
        "colab": {
          "base_uri": "https://localhost:8080/",
          "height": 467
        },
        "id": "jM4M8_pPfErx",
        "outputId": "11672de6-0eed-4670-fed0-1f87b1436e36"
      },
      "source": [
        "Educationimpact()"
      ],
      "execution_count": null,
      "outputs": [
        {
          "output_type": "display_data",
          "data": {
            "text/plain": [
              "<Figure size 1080x504 with 1 Axes>"
            ],
            "image/png": "[encoded data removed]"
          },
          "metadata": {
            "needs_background": "light"
          }
        }
      ]
    },
    {
      "cell_type": "markdown",
      "metadata": {
        "id": "fTiMZ5sbewgJ"
      },
      "source": [
        "---\n",
        "**<h4>Question 5:** Create a function that generate distribution of loan amount feature.</h4>\n",
        "\n",
        "---\n",
        "\n",
        "<details>\n",
        "\n",
        "**<summary>Hint:</summary>**\n",
        "\n",
        "- Plot a **10x7** inches figure\n",
        "\n",
        "- Plot a **distplot/histplot** for the `loan amount` variable.\n",
        "\n",
        "- Add additional cosmetics like grid and title to the plot.\n",
        "\n",
        "- Set x, y labels of size 14, ticks of size 12 and title label of size 16.\n",
        "\n",
        "</details>"
      ]
    },
    {
      "cell_type": "code",
      "metadata": {
        "id": "jn-16mhfMIX6"
      },
      "source": [
        "def plot_amount():\n",
        "  # Create a figure of 10 x 7 inches\n",
        "  fig = plt.figure(figsize=(10, 7))\n",
        "\n",
        "  # Plot a dist plot on LoanAmount using sns.histplot\n",
        "  sns.histplot(x = (data['LoanAmount']))\n",
        "\n",
        "  # Set x, y labels of size 14, ticks of size 12 and title label of size 16.\n",
        "  plt.xlabel(xlabel='Amount', size=14)\n",
        "  plt.ylabel(ylabel='Customers', size=14)\n",
        "  plt.xticks(size=12)\n",
        "  plt.yticks(size=12)\n",
        "  plt.title(label='Loan Amount', size=16)\n",
        "\n",
        "  # Put a grid\n",
        "  plt.grid(True)\n",
        "\n",
        "  # Display the plot\n",
        "  plt.show()"
      ],
      "execution_count": null,
      "outputs": []
    },
    {
      "cell_type": "code",
      "metadata": {
        "colab": {
          "base_uri": "https://localhost:8080/",
          "height": 467
        },
        "id": "oKy9UYclfE3m",
        "outputId": "5eabcc06-ddc9-48df-d588-076809f7e4c3"
      },
      "source": [
        "plot_amount()"
      ],
      "execution_count": null,
      "outputs": [
        {
          "output_type": "display_data",
          "data": {
            "text/plain": [
              "<Figure size 720x504 with 1 Axes>"
            ],
            "image/png": "[encoded data removed]"
          },
          "metadata": {
            "needs_background": "light"
          }
        }
      ]
    },
    {
      "cell_type": "markdown",
      "metadata": {
        "id": "4Cnw23CLzNaJ"
      },
      "source": [
        "<a name = Section7></a>\n",
        "\n",
        "---\n",
        "# **7. Post Data Processing**\n",
        "---\n"
      ]
    },
    {
      "cell_type": "code",
      "source": [
        "def drop_vars(data=None):\n",
        "  # Drop the mentioned columns\n",
        "  data= data.drop(data[['Loan_ID']], axis=1)\n",
        "\n",
        "  # Return the modified dataframe\n",
        "  return data"
      ],
      "metadata": {
        "id": "LvCzY3hleoKs"
      },
      "execution_count": null,
      "outputs": []
    },
    {
      "cell_type": "code",
      "source": [
        "data = drop_vars(data=data)"
      ],
      "metadata": {
        "id": "xlkpWubRfTGW"
      },
      "execution_count": null,
      "outputs": []
    },
    {
      "cell_type": "code",
      "source": [
        "data.info()"
      ],
      "metadata": {
        "colab": {
          "base_uri": "https://localhost:8080/"
        },
        "id": "xFMZ7m6Qp_5a",
        "outputId": "188adbe8-2a70-46a2-b134-8323b13771a4"
      },
      "execution_count": null,
      "outputs": [
        {
          "output_type": "stream",
          "name": "stdout",
          "text": [
            "<class 'pandas.core.frame.DataFrame'>\n",
            "RangeIndex: 614 entries, 0 to 613\n",
            "Data columns (total 12 columns):\n",
            " #   Column             Non-Null Count  Dtype  \n",
            "---  ------             --------------  -----  \n",
            " 0   Gender             614 non-null    object \n",
            " 1   Married            614 non-null    object \n",
            " 2   Dependents         614 non-null    int64  \n",
            " 3   Education          614 non-null    object \n",
            " 4   Self_Employed      614 non-null    object \n",
            " 5   ApplicantIncome    614 non-null    int64  \n",
            " 6   CoapplicantIncome  614 non-null    float64\n",
            " 7   LoanAmount         614 non-null    float64\n",
            " 8   Loan_Amount_Term   614 non-null    float64\n",
            " 9   Credit_History     614 non-null    float64\n",
            " 10  Property_Area      614 non-null    object \n",
            " 11  Loan_Status        614 non-null    object \n",
            "dtypes: float64(4), int64(2), object(6)\n",
            "memory usage: 57.7+ KB\n"
          ]
        }
      ]
    },
    {
      "cell_type": "markdown",
      "metadata": {
        "id": "tc9ZOZrg1tiu"
      },
      "source": [
        "<a name = Section71></a>\n",
        "### **7.1 Feature Encoding**"
      ]
    },
    {
      "cell_type": "markdown",
      "metadata": {
        "id": "uw9RFP_62AWq"
      },
      "source": [
        "---\n",
        "**<h4>Question 7:** Create a function that performs one hot encoding over the categorical feature.</h4>\n",
        "\n",
        "---\n",
        "\n",
        "<details>\n",
        "\n",
        "**<summary>Hint:</summary>**\n",
        "\n",
        "- You can use pandas .get_dummies() functionality to achieve the asked objective.\n",
        "\n",
        "</details>"
      ]
    },
    {
      "cell_type": "code",
      "source": [
        "data.info()"
      ],
      "metadata": {
        "colab": {
          "base_uri": "https://localhost:8080/"
        },
        "id": "5Rr1yGCJWL4e",
        "outputId": "2641e966-a7b3-4ef7-c833-49b0fcc1916c"
      },
      "execution_count": null,
      "outputs": [
        {
          "output_type": "stream",
          "name": "stdout",
          "text": [
            "<class 'pandas.core.frame.DataFrame'>\n",
            "RangeIndex: 614 entries, 0 to 613\n",
            "Data columns (total 12 columns):\n",
            " #   Column             Non-Null Count  Dtype  \n",
            "---  ------             --------------  -----  \n",
            " 0   Gender             614 non-null    object \n",
            " 1   Married            614 non-null    object \n",
            " 2   Dependents         614 non-null    int64  \n",
            " 3   Education          614 non-null    object \n",
            " 4   Self_Employed      614 non-null    object \n",
            " 5   ApplicantIncome    614 non-null    int64  \n",
            " 6   CoapplicantIncome  614 non-null    float64\n",
            " 7   LoanAmount         614 non-null    float64\n",
            " 8   Loan_Amount_Term   614 non-null    float64\n",
            " 9   Credit_History     614 non-null    float64\n",
            " 10  Property_Area      614 non-null    object \n",
            " 11  Loan_Status        614 non-null    object \n",
            "dtypes: float64(4), int64(2), object(6)\n",
            "memory usage: 57.7+ KB\n"
          ]
        }
      ]
    },
    {
      "cell_type": "code",
      "metadata": {
        "id": "dDRpkdzw2P37"
      },
      "source": [
        "def dummy_df_creator(data=None):\n",
        "  # Create a dummy variable for vehicle_type\n",
        "  dummies = pd.get_dummies(data=data, columns=['Gender','Married', 'Education','Self_Employed','Property_Area','Loan_Status'], drop_first=True)\n",
        "\n",
        "  # Return the dummy variable\n",
        "  return dummies"
      ],
      "execution_count": null,
      "outputs": []
    },
    {
      "cell_type": "code",
      "metadata": {
        "id": "FEThHxUC2oVL"
      },
      "source": [
        "data = dummy_df_creator(data=data)"
      ],
      "execution_count": null,
      "outputs": []
    },
    {
      "cell_type": "markdown",
      "metadata": {
        "id": "QkRpcbPy4xyD"
      },
      "source": [
        "<a name = Section72></a>\n",
        "### **7.2 Feature Scaling**"
      ]
    },
    {
      "cell_type": "markdown",
      "metadata": {
        "id": "ksMwQVdy4vYh"
      },
      "source": [
        "---\n",
        "**<h4>Question 7:** Create a function that performs standard scaling over the following set of features.</h4>\n",
        "\n",
        "> int.rate, installment, log.annual.inc, dti, fico, days.with.cr.line, revol.bal, revol.util\n",
        "\n",
        "---\n",
        "\n",
        "<details>\n",
        "\n",
        "**<summary>Hint:</summary>**\n",
        "\n",
        "- Initialize data as input and output form.\n",
        "\n",
        "- Initialize a list of features that needs to be scaled.\n",
        "\n",
        "- Create a function that performs standard scaling over the features and returns a scaled dataframe.\n",
        "\n",
        "</details>"
      ]
    },
    {
      "cell_type": "code",
      "source": [
        "# Split the data into input and output\n",
        "X = data.drop(labels=['Loan_Status_Y'], axis=1)\n",
        "y = data['Loan_Status_Y']\n",
        "\n",
        "# Initialize a list of scaled features\n",
        "scalerlabels = ['ApplicantIncome','CoapplicantIncome'\t,'LoanAmount'\t]"
      ],
      "metadata": {
        "id": "gG6rxmB3a3Gc"
      },
      "execution_count": null,
      "outputs": []
    },
    {
      "cell_type": "code",
      "source": [
        "def dataScaler(data=None, labels=None):\n",
        "  scaler = StandardScaler()\n",
        "  Xtrans = scaler.fit_transform(data[labels])\n",
        "  scaledframe = pd.DataFrame(data=Xtrans, columns=labels)\n",
        "  return scaledframe"
      ],
      "metadata": {
        "id": "Yzz84GLNrcfY"
      },
      "execution_count": null,
      "outputs": []
    },
    {
      "cell_type": "code",
      "source": [
        "X_scaled = dataScaler(data=data, labels=scalerlabels)\n",
        "X_scaled.head()"
      ],
      "metadata": {
        "colab": {
          "base_uri": "https://localhost:8080/",
          "height": 206
        },
        "id": "368Bz88Xret4",
        "outputId": "59fbd9a5-bb5c-4ff0-b425-93a72a228ec6"
      },
      "execution_count": null,
      "outputs": [
        {
          "output_type": "execute_result",
          "data": {
            "text/plain": [
              "   ApplicantIncome  CoapplicantIncome  LoanAmount\n",
              "0         0.072991          -0.554487    0.000000\n",
              "1        -0.134412          -0.038732   -0.219273\n",
              "2        -0.393747          -0.554487   -0.957641\n",
              "3        -0.462062           0.251980   -0.314547\n",
              "4         0.097728          -0.554487   -0.064454"
            ],
            "text/html": [
              "\n",
              "  <div id=\"df-2521c250-267a-4fea-9be8-369250e907a9\">\n",
              "    <div class=\"colab-df-container\">\n",
              "      <div>\n",
              "<style scoped>\n",
              "    .dataframe tbody tr th:only-of-type {\n",
              "        vertical-align: middle;\n",
              "    }\n",
              "\n",
              "    .dataframe tbody tr th {\n",
              "        vertical-align: top;\n",
              "    }\n",
              "\n",
              "    .dataframe thead th {\n",
              "        text-align: right;\n",
              "    }\n",
              "</style>\n",
              "<table border=\"1\" class=\"dataframe\">\n",
              "  <thead>\n",
              "    <tr style=\"text-align: right;\">\n",
              "      <th></th>\n",
              "      <th>ApplicantIncome</th>\n",
              "      <th>CoapplicantIncome</th>\n",
              "      <th>LoanAmount</th>\n",
              "    </tr>\n",
              "  </thead>\n",
              "  <tbody>\n",
              "    <tr>\n",
              "      <th>0</th>\n",
              "      <td>0.072991</td>\n",
              "      <td>-0.554487</td>\n",
              "      <td>0.000000</td>\n",
              "    </tr>\n",
              "    <tr>\n",
              "      <th>1</th>\n",
              "      <td>-0.134412</td>\n",
              "      <td>-0.038732</td>\n",
              "      <td>-0.219273</td>\n",
              "    </tr>\n",
              "    <tr>\n",
              "      <th>2</th>\n",
              "      <td>-0.393747</td>\n",
              "      <td>-0.554487</td>\n",
              "      <td>-0.957641</td>\n",
              "    </tr>\n",
              "    <tr>\n",
              "      <th>3</th>\n",
              "      <td>-0.462062</td>\n",
              "      <td>0.251980</td>\n",
              "      <td>-0.314547</td>\n",
              "    </tr>\n",
              "    <tr>\n",
              "      <th>4</th>\n",
              "      <td>0.097728</td>\n",
              "      <td>-0.554487</td>\n",
              "      <td>-0.064454</td>\n",
              "    </tr>\n",
              "  </tbody>\n",
              "</table>\n",
              "</div>\n",
              "      <button class=\"colab-df-convert\" onclick=\"convertToInteractive('df-2521c250-267a-4fea-9be8-369250e907a9')\"\n",
              "              title=\"Convert this dataframe to an interactive table.\"\n",
              "              style=\"display:none;\">\n",
              "        \n",
              "  <svg xmlns=\"http://www.w3.org/2000/svg\" height=\"24px\"viewBox=\"0 0 24 24\"\n",
              "       width=\"24px\">\n",
              "    <path d=\"M0 0h24v24H0V0z\" fill=\"none\"/>\n",
              "    <path d=\"M18.56 5.44l.94 2.06.94-2.06 2.06-.94-2.06-.94-.94-2.06-.94 2.06-2.06.94zm-11 1L8.5 8.5l.94-2.06 2.06-.94-2.06-.94L8.5 2.5l-.94 2.06-2.06.94zm10 10l.94 2.06.94-2.06 2.06-.94-2.06-.94-.94-2.06-.94 2.06-2.06.94z\"/><path d=\"M17.41 7.96l-1.37-1.37c-.4-.4-.92-.59-1.43-.59-.52 0-1.04.2-1.43.59L10.3 9.45l-7.72 7.72c-.78.78-.78 2.05 0 2.83L4 21.41c.39.39.9.59 1.41.59.51 0 1.02-.2 1.41-.59l7.78-7.78 2.81-2.81c.8-.78.8-2.07 0-2.86zM5.41 20L4 18.59l7.72-7.72 1.47 1.35L5.41 20z\"/>\n",
              "  </svg>\n",
              "      </button>\n",
              "      \n",
              "  <style>\n",
              "    .colab-df-container {\n",
              "      display:flex;\n",
              "      flex-wrap:wrap;\n",
              "      gap: 12px;\n",
              "    }\n",
              "\n",
              "    .colab-df-convert {\n",
              "      background-color: #E8F0FE;\n",
              "      border: none;\n",
              "      border-radius: 50%;\n",
              "      cursor: pointer;\n",
              "      display: none;\n",
              "      fill: #1967D2;\n",
              "      height: 32px;\n",
              "      padding: 0 0 0 0;\n",
              "      width: 32px;\n",
              "    }\n",
              "\n",
              "    .colab-df-convert:hover {\n",
              "      background-color: #E2EBFA;\n",
              "      box-shadow: 0px 1px 2px rgba(60, 64, 67, 0.3), 0px 1px 3px 1px rgba(60, 64, 67, 0.15);\n",
              "      fill: #174EA6;\n",
              "    }\n",
              "\n",
              "    [theme=dark] .colab-df-convert {\n",
              "      background-color: #3B4455;\n",
              "      fill: #D2E3FC;\n",
              "    }\n",
              "\n",
              "    [theme=dark] .colab-df-convert:hover {\n",
              "      background-color: #434B5C;\n",
              "      box-shadow: 0px 1px 3px 1px rgba(0, 0, 0, 0.15);\n",
              "      filter: drop-shadow(0px 1px 2px rgba(0, 0, 0, 0.3));\n",
              "      fill: #FFFFFF;\n",
              "    }\n",
              "  </style>\n",
              "\n",
              "      <script>\n",
              "        const buttonEl =\n",
              "          document.querySelector('#df-2521c250-267a-4fea-9be8-369250e907a9 button.colab-df-convert');\n",
              "        buttonEl.style.display =\n",
              "          google.colab.kernel.accessAllowed ? 'block' : 'none';\n",
              "\n",
              "        async function convertToInteractive(key) {\n",
              "          const element = document.querySelector('#df-2521c250-267a-4fea-9be8-369250e907a9');\n",
              "          const dataTable =\n",
              "            await google.colab.kernel.invokeFunction('convertToInteractive',\n",
              "                                                     [key], {});\n",
              "          if (!dataTable) return;\n",
              "\n",
              "          const docLinkHtml = 'Like what you see? Visit the ' +\n",
              "            '<a target=\"_blank\" href=https://colab.research.google.com/notebooks/data_table.ipynb>data table notebook</a>'\n",
              "            + ' to learn more about interactive tables.';\n",
              "          element.innerHTML = '';\n",
              "          dataTable['output_type'] = 'display_data';\n",
              "          await google.colab.output.renderOutput(dataTable, element);\n",
              "          const docLink = document.createElement('div');\n",
              "          docLink.innerHTML = docLinkHtml;\n",
              "          element.appendChild(docLink);\n",
              "        }\n",
              "      </script>\n",
              "    </div>\n",
              "  </div>\n",
              "  "
            ]
          },
          "metadata": {},
          "execution_count": 22
        }
      ]
    },
    {
      "cell_type": "code",
      "source": [
        "def concatFrames():\n",
        "  final_data = pd.concat(objs=[X_scaled,\n",
        "                               X.drop(labels=scalerlabels,\n",
        "                                      axis=1)],\n",
        "                         axis=1)\n",
        "  return final_data"
      ],
      "metadata": {
        "id": "Xk5XtpNZriC9"
      },
      "execution_count": null,
      "outputs": []
    },
    {
      "cell_type": "code",
      "source": [
        "final_data = concatFrames()\n",
        "final_data.head()"
      ],
      "metadata": {
        "colab": {
          "base_uri": "https://localhost:8080/",
          "height": 288
        },
        "id": "Ke02dUWErjiz",
        "outputId": "fa6034be-7dc9-4ab3-d57e-e651e1228a8d"
      },
      "execution_count": null,
      "outputs": [
        {
          "output_type": "execute_result",
          "data": {
            "text/plain": [
              "   ApplicantIncome  CoapplicantIncome  LoanAmount  Dependents  \\\n",
              "0         0.072991          -0.554487    0.000000           0   \n",
              "1        -0.134412          -0.038732   -0.219273           1   \n",
              "2        -0.393747          -0.554487   -0.957641           0   \n",
              "3        -0.462062           0.251980   -0.314547           0   \n",
              "4         0.097728          -0.554487   -0.064454           0   \n",
              "\n",
              "   Loan_Amount_Term  Credit_History  Gender_Male  Married_Yes  \\\n",
              "0             360.0             1.0            1            0   \n",
              "1             360.0             1.0            1            1   \n",
              "2             360.0             1.0            1            1   \n",
              "3             360.0             1.0            1            1   \n",
              "4             360.0             1.0            1            0   \n",
              "\n",
              "   Education_Not Graduate  Self_Employed_Yes  Property_Area_Semiurban  \\\n",
              "0                       0                  0                        0   \n",
              "1                       0                  0                        0   \n",
              "2                       0                  1                        0   \n",
              "3                       1                  0                        0   \n",
              "4                       0                  0                        0   \n",
              "\n",
              "   Property_Area_Urban  \n",
              "0                    1  \n",
              "1                    0  \n",
              "2                    1  \n",
              "3                    1  \n",
              "4                    1  "
            ],
            "text/html": [
              "\n",
              "  <div id=\"df-cb62c2de-d71f-485a-87ae-e7500f783425\">\n",
              "    <div class=\"colab-df-container\">\n",
              "      <div>\n",
              "<style scoped>\n",
              "    .dataframe tbody tr th:only-of-type {\n",
              "        vertical-align: middle;\n",
              "    }\n",
              "\n",
              "    .dataframe tbody tr th {\n",
              "        vertical-align: top;\n",
              "    }\n",
              "\n",
              "    .dataframe thead th {\n",
              "        text-align: right;\n",
              "    }\n",
              "</style>\n",
              "<table border=\"1\" class=\"dataframe\">\n",
              "  <thead>\n",
              "    <tr style=\"text-align: right;\">\n",
              "      <th></th>\n",
              "      <th>ApplicantIncome</th>\n",
              "      <th>CoapplicantIncome</th>\n",
              "      <th>LoanAmount</th>\n",
              "      <th>Dependents</th>\n",
              "      <th>Loan_Amount_Term</th>\n",
              "      <th>Credit_History</th>\n",
              "      <th>Gender_Male</th>\n",
              "      <th>Married_Yes</th>\n",
              "      <th>Education_Not Graduate</th>\n",
              "      <th>Self_Employed_Yes</th>\n",
              "      <th>Property_Area_Semiurban</th>\n",
              "      <th>Property_Area_Urban</th>\n",
              "    </tr>\n",
              "  </thead>\n",
              "  <tbody>\n",
              "    <tr>\n",
              "      <th>0</th>\n",
              "      <td>0.072991</td>\n",
              "      <td>-0.554487</td>\n",
              "      <td>0.000000</td>\n",
              "      <td>0</td>\n",
              "      <td>360.0</td>\n",
              "      <td>1.0</td>\n",
              "      <td>1</td>\n",
              "      <td>0</td>\n",
              "      <td>0</td>\n",
              "      <td>0</td>\n",
              "      <td>0</td>\n",
              "      <td>1</td>\n",
              "    </tr>\n",
              "    <tr>\n",
              "      <th>1</th>\n",
              "      <td>-0.134412</td>\n",
              "      <td>-0.038732</td>\n",
              "      <td>-0.219273</td>\n",
              "      <td>1</td>\n",
              "      <td>360.0</td>\n",
              "      <td>1.0</td>\n",
              "      <td>1</td>\n",
              "      <td>1</td>\n",
              "      <td>0</td>\n",
              "      <td>0</td>\n",
              "      <td>0</td>\n",
              "      <td>0</td>\n",
              "    </tr>\n",
              "    <tr>\n",
              "      <th>2</th>\n",
              "      <td>-0.393747</td>\n",
              "      <td>-0.554487</td>\n",
              "      <td>-0.957641</td>\n",
              "      <td>0</td>\n",
              "      <td>360.0</td>\n",
              "      <td>1.0</td>\n",
              "      <td>1</td>\n",
              "      <td>1</td>\n",
              "      <td>0</td>\n",
              "      <td>1</td>\n",
              "      <td>0</td>\n",
              "      <td>1</td>\n",
              "    </tr>\n",
              "    <tr>\n",
              "      <th>3</th>\n",
              "      <td>-0.462062</td>\n",
              "      <td>0.251980</td>\n",
              "      <td>-0.314547</td>\n",
              "      <td>0</td>\n",
              "      <td>360.0</td>\n",
              "      <td>1.0</td>\n",
              "      <td>1</td>\n",
              "      <td>1</td>\n",
              "      <td>1</td>\n",
              "      <td>0</td>\n",
              "      <td>0</td>\n",
              "      <td>1</td>\n",
              "    </tr>\n",
              "    <tr>\n",
              "      <th>4</th>\n",
              "      <td>0.097728</td>\n",
              "      <td>-0.554487</td>\n",
              "      <td>-0.064454</td>\n",
              "      <td>0</td>\n",
              "      <td>360.0</td>\n",
              "      <td>1.0</td>\n",
              "      <td>1</td>\n",
              "      <td>0</td>\n",
              "      <td>0</td>\n",
              "      <td>0</td>\n",
              "      <td>0</td>\n",
              "      <td>1</td>\n",
              "    </tr>\n",
              "  </tbody>\n",
              "</table>\n",
              "</div>\n",
              "      <button class=\"colab-df-convert\" onclick=\"convertToInteractive('df-cb62c2de-d71f-485a-87ae-e7500f783425')\"\n",
              "              title=\"Convert this dataframe to an interactive table.\"\n",
              "              style=\"display:none;\">\n",
              "        \n",
              "  <svg xmlns=\"http://www.w3.org/2000/svg\" height=\"24px\"viewBox=\"0 0 24 24\"\n",
              "       width=\"24px\">\n",
              "    <path d=\"M0 0h24v24H0V0z\" fill=\"none\"/>\n",
              "    <path d=\"M18.56 5.44l.94 2.06.94-2.06 2.06-.94-2.06-.94-.94-2.06-.94 2.06-2.06.94zm-11 1L8.5 8.5l.94-2.06 2.06-.94-2.06-.94L8.5 2.5l-.94 2.06-2.06.94zm10 10l.94 2.06.94-2.06 2.06-.94-2.06-.94-.94-2.06-.94 2.06-2.06.94z\"/><path d=\"M17.41 7.96l-1.37-1.37c-.4-.4-.92-.59-1.43-.59-.52 0-1.04.2-1.43.59L10.3 9.45l-7.72 7.72c-.78.78-.78 2.05 0 2.83L4 21.41c.39.39.9.59 1.41.59.51 0 1.02-.2 1.41-.59l7.78-7.78 2.81-2.81c.8-.78.8-2.07 0-2.86zM5.41 20L4 18.59l7.72-7.72 1.47 1.35L5.41 20z\"/>\n",
              "  </svg>\n",
              "      </button>\n",
              "      \n",
              "  <style>\n",
              "    .colab-df-container {\n",
              "      display:flex;\n",
              "      flex-wrap:wrap;\n",
              "      gap: 12px;\n",
              "    }\n",
              "\n",
              "    .colab-df-convert {\n",
              "      background-color: #E8F0FE;\n",
              "      border: none;\n",
              "      border-radius: 50%;\n",
              "      cursor: pointer;\n",
              "      display: none;\n",
              "      fill: #1967D2;\n",
              "      height: 32px;\n",
              "      padding: 0 0 0 0;\n",
              "      width: 32px;\n",
              "    }\n",
              "\n",
              "    .colab-df-convert:hover {\n",
              "      background-color: #E2EBFA;\n",
              "      box-shadow: 0px 1px 2px rgba(60, 64, 67, 0.3), 0px 1px 3px 1px rgba(60, 64, 67, 0.15);\n",
              "      fill: #174EA6;\n",
              "    }\n",
              "\n",
              "    [theme=dark] .colab-df-convert {\n",
              "      background-color: #3B4455;\n",
              "      fill: #D2E3FC;\n",
              "    }\n",
              "\n",
              "    [theme=dark] .colab-df-convert:hover {\n",
              "      background-color: #434B5C;\n",
              "      box-shadow: 0px 1px 3px 1px rgba(0, 0, 0, 0.15);\n",
              "      filter: drop-shadow(0px 1px 2px rgba(0, 0, 0, 0.3));\n",
              "      fill: #FFFFFF;\n",
              "    }\n",
              "  </style>\n",
              "\n",
              "      <script>\n",
              "        const buttonEl =\n",
              "          document.querySelector('#df-cb62c2de-d71f-485a-87ae-e7500f783425 button.colab-df-convert');\n",
              "        buttonEl.style.display =\n",
              "          google.colab.kernel.accessAllowed ? 'block' : 'none';\n",
              "\n",
              "        async function convertToInteractive(key) {\n",
              "          const element = document.querySelector('#df-cb62c2de-d71f-485a-87ae-e7500f783425');\n",
              "          const dataTable =\n",
              "            await google.colab.kernel.invokeFunction('convertToInteractive',\n",
              "                                                     [key], {});\n",
              "          if (!dataTable) return;\n",
              "\n",
              "          const docLinkHtml = 'Like what you see? Visit the ' +\n",
              "            '<a target=\"_blank\" href=https://colab.research.google.com/notebooks/data_table.ipynb>data table notebook</a>'\n",
              "            + ' to learn more about interactive tables.';\n",
              "          element.innerHTML = '';\n",
              "          dataTable['output_type'] = 'display_data';\n",
              "          await google.colab.output.renderOutput(dataTable, element);\n",
              "          const docLink = document.createElement('div');\n",
              "          docLink.innerHTML = docLinkHtml;\n",
              "          element.appendChild(docLink);\n",
              "        }\n",
              "      </script>\n",
              "    </div>\n",
              "  </div>\n",
              "  "
            ]
          },
          "metadata": {},
          "execution_count": 50
        }
      ]
    },
    {
      "cell_type": "code",
      "source": [
        "data.info()"
      ],
      "metadata": {
        "colab": {
          "base_uri": "https://localhost:8080/"
        },
        "id": "ogKXrJ27bO0l",
        "outputId": "f89e043f-ab84-46f2-c546-dd359a00aa0b"
      },
      "execution_count": null,
      "outputs": [
        {
          "output_type": "stream",
          "name": "stdout",
          "text": [
            "<class 'pandas.core.frame.DataFrame'>\n",
            "RangeIndex: 614 entries, 0 to 613\n",
            "Data columns (total 13 columns):\n",
            " #   Column                   Non-Null Count  Dtype  \n",
            "---  ------                   --------------  -----  \n",
            " 0   Dependents               614 non-null    int64  \n",
            " 1   ApplicantIncome          614 non-null    int64  \n",
            " 2   CoapplicantIncome        614 non-null    float64\n",
            " 3   LoanAmount               614 non-null    float64\n",
            " 4   Loan_Amount_Term         614 non-null    float64\n",
            " 5   Credit_History           614 non-null    float64\n",
            " 6   Gender_Male              614 non-null    uint8  \n",
            " 7   Married_Yes              614 non-null    uint8  \n",
            " 8   Education_Not Graduate   614 non-null    uint8  \n",
            " 9   Self_Employed_Yes        614 non-null    uint8  \n",
            " 10  Property_Area_Semiurban  614 non-null    uint8  \n",
            " 11  Property_Area_Urban      614 non-null    uint8  \n",
            " 12  Loan_Status_Y            614 non-null    uint8  \n",
            "dtypes: float64(4), int64(2), uint8(7)\n",
            "memory usage: 33.1 KB\n"
          ]
        }
      ]
    },
    {
      "cell_type": "code",
      "source": [
        "data['Loan_Status_Y'].value_counts()"
      ],
      "metadata": {
        "colab": {
          "base_uri": "https://localhost:8080/"
        },
        "id": "G8hjWgoasQ-r",
        "outputId": "162e89ab-ce1d-4286-b859-242578a0ac9b"
      },
      "execution_count": null,
      "outputs": [
        {
          "output_type": "execute_result",
          "data": {
            "text/plain": [
              "1    422\n",
              "0    192\n",
              "Name: Loan_Status_Y, dtype: int64"
            ]
          },
          "metadata": {},
          "execution_count": 52
        }
      ]
    },
    {
      "cell_type": "code",
      "metadata": {
        "id": "0pO6yy4zfEol"
      },
      "source": [
        "def data_prep(input=None, output=None):\n",
        "  X_train, X_test, y_train, y_test = train_test_split(input, output, test_size=0.2, random_state=42, stratify=output)\n",
        "  return X_train,X_test,y_train, y_test"
      ],
      "execution_count": null,
      "outputs": []
    },
    {
      "cell_type": "code",
      "source": [
        "X_train, X_test, y_train, y_test = data_prep(input=final_data, output=y)"
      ],
      "metadata": {
        "id": "sN4og2WEcq4L"
      },
      "execution_count": null,
      "outputs": []
    },
    {
      "cell_type": "markdown",
      "metadata": {
        "id": "otxEBnHk-27C"
      },
      "source": [
        "<a name = Section73></a>\n",
        "### **7.3 Data Preparation**"
      ]
    },
    {
      "cell_type": "markdown",
      "metadata": {
        "id": "UW0uVNY8_FWl"
      },
      "source": [
        "---\n",
        "**<h4>Question 8:** Create a function that prepare the data according to the following model requirements.</h4>\n",
        "\n",
        "- **Split** the data into **80:20** inside train_test_split.\n",
        "\n",
        "- Make sure to set the **random_state = 42**.\n",
        "\n",
        "---\n",
        "\n",
        "<details>\n",
        "\n",
        "**<summary>Hint:</summary>**\n",
        "\n",
        "- You can use .train_test_split functionality of sklearn package to achieve the objective.\n",
        "\n",
        "</details>"
      ]
    },
    {
      "cell_type": "code",
      "metadata": {
        "id": "yDRKxqtj-oJg"
      },
      "source": [
        "def data_prep(input=None, output=None):\n",
        "  X_train, X_test, y_train, y_test = train_test_split(input, output, test_size=0.2, random_state=42, stratify=output)\n",
        "  return X_train,X_test,y_train, y_test"
      ],
      "execution_count": null,
      "outputs": []
    },
    {
      "cell_type": "code",
      "metadata": {
        "id": "ZQYEfTCM_g1T"
      },
      "source": [
        "X_train, X_test, y_train, y_test = data_prep(input=data, output=y)"
      ],
      "execution_count": null,
      "outputs": []
    },
    {
      "cell_type": "markdown",
      "metadata": {
        "id": "Fdo3HdO3_7D7"
      },
      "source": [
        "<a name = Section8></a>\n",
        "\n",
        "---\n",
        "# **8. Model Development & Evaluation**\n",
        "---\n",
        "\n",
        "- In this section, you will develop decision tree-based model.\n",
        "\n",
        "- Then **analyze the results** obtained and **make observations**.\n",
        "\n",
        "- For **evaluation purposes** we will **focus** on the **precision and recall score**.\n",
        "\n",
        "- **Remember** that we want to **generalize results** i.e. same results or error on testing data as that of training data."
      ]
    },
    {
      "cell_type": "markdown",
      "metadata": {
        "id": "SUCb5Z9PWrwx"
      },
      "source": [
        "---\n",
        "**<h4>Question 9:** Create a function that develops decision tree model and output a confusion matrix.</h4>\n",
        "\n",
        "---\n",
        "\n",
        "<details>\n",
        "\n",
        "**<summary>Hint:</summary>**\n",
        "\n",
        "- To train decision tree model you can use sklearn package.\n",
        "\n",
        "- Plot a side by side figure of confusion matrix using some beautiful cosmetics.\n",
        "\n",
        "- You can use confusion_matrix function to generate a confusion maxtrix.\n",
        "\n",
        "- Display the results.\n",
        "\n",
        "</details>"
      ]
    },
    {
      "cell_type": "code",
      "metadata": {
        "id": "R9PmVbYZXcgI"
      },
      "source": [
        "def trainDecisionGetConfusion():\n",
        "  clf = DecisionTreeClassifier(random_state=42, class_weight='balanced')\n",
        "  clf.fit(X_train, y_train)\n",
        "  fig, (ax1, ax2) = plt.subplots(nrows=1, ncols=2, sharex=False, figsize=(15, 7))\n",
        "  ConfusionMatrixDisplay.from_estimator(clf, X_train, y_train,values_format='.5g',cmap='viridis', ax=ax1)\n",
        "  ConfusionMatrixDisplay.from_estimator(clf, X_test, y_test,values_format='.5g',cmap='viridis', ax=ax2)\n",
        "  ax1.set_title(label='Train Data', size=14)\n",
        "  ax2.set_title(label='Test Data', size=14)\n",
        "  ax1.grid(False)\n",
        "  ax2.grid(False)\n",
        "  plt.suptitle(t='Confusion Matrix', size=16)\n",
        "  plt.show()"
      ],
      "execution_count": null,
      "outputs": []
    },
    {
      "cell_type": "code",
      "metadata": {
        "colab": {
          "base_uri": "https://localhost:8080/",
          "height": 654
        },
        "id": "rK7Art_kAH4f",
        "outputId": "8a5386ea-3a54-4772-b2c3-5ade6b206b5f"
      },
      "source": [
        "trainDecisionGetConfusion()"
      ],
      "execution_count": null,
      "outputs": [
        {
          "output_type": "display_data",
          "data": {
            "text/plain": [
              "<Figure size 1500x700 with 4 Axes>"
            ],
            "image/png": "[encoded data removed]"
          },
          "metadata": {}
        }
      ]
    },
    {
      "cell_type": "markdown",
      "metadata": {
        "id": "3jCWOk2VZ-oj"
      },
      "source": [
        "**Observation:**\n",
        "\n",
        "- **Train Data:**\n",
        "  - Model predicted **154 instances correctly** for **negative class** while **337 instances** were predicted **correctly** for **positive class**.\n",
        "  - Model **identified 0 instances negative but in actual** they **were positive**.\n",
        "  - Model **identified 0 instances positive but in actual** they **were negative**.\n",
        "\n",
        "- **Test Data:**\n",
        "  - Model predicted **38 instances correctly** for **negative class** while **85 instances** were predicted **correctly** for **positive class**.\n",
        "  - Model **identified 0 instances negative but in actual** it **was positive**.\n",
        "  - Model **identified 0 instances positive but in actual** they **were negative**."
      ]
    },
    {
      "cell_type": "markdown",
      "metadata": {
        "id": "6VamyLhlXoKQ"
      },
      "source": [
        "---\n",
        "**<h4>Question 10:** Create a function that generates a classification report using the decision tree classifier developed above.</h4>\n",
        "\n",
        "---\n",
        "\n",
        "<details>\n",
        "\n",
        "**<summary>Hint:</summary>**\n",
        "\n",
        "- To train decision tree model you can use sklearn package.\n",
        "\n",
        "- Fit the data on training data and then predict on both train set and test set.\n",
        "\n",
        "- Plot a side by side figure of confusion matrix using some beautiful cosmetics.\n",
        "\n",
        "- Display the results.\n",
        "\n",
        "</details>"
      ]
    },
    {
      "cell_type": "code",
      "metadata": {
        "id": "AitMXlWJXn-R"
      },
      "source": [
        "def getDecisionReport():\n",
        "  clf = DecisionTreeClassifier(random_state=42, class_weight='balanced')\n",
        "  clf.fit(X_train, y_train)\n",
        "\n",
        "  # Predicting training and testing labels\n",
        "  y_train_pred_count = clf.predict(X_train)\n",
        "  y_test_pred_count = clf.predict(X_test)\n",
        "\n",
        "  train_report = classification_report(y_train, y_train_pred_count)\n",
        "  test_report = classification_report(y_test, y_test_pred_count)\n",
        "  print('                    Training Report          ')\n",
        "  print(train_report)\n",
        "  print('                    Testing Report           ')\n",
        "  print(test_report)"
      ],
      "execution_count": null,
      "outputs": []
    },
    {
      "cell_type": "code",
      "metadata": {
        "colab": {
          "base_uri": "https://localhost:8080/"
        },
        "id": "cjQ13SI0ZLX-",
        "outputId": "f850113e-045c-4e37-e62d-bc27691a50f3"
      },
      "source": [
        "getDecisionReport()"
      ],
      "execution_count": null,
      "outputs": [
        {
          "output_type": "stream",
          "name": "stdout",
          "text": [
            "                    Training Report          \n",
            "              precision    recall  f1-score   support\n",
            "\n",
            "           0       1.00      1.00      1.00       154\n",
            "           1       1.00      1.00      1.00       337\n",
            "\n",
            "    accuracy                           1.00       491\n",
            "   macro avg       1.00      1.00      1.00       491\n",
            "weighted avg       1.00      1.00      1.00       491\n",
            "\n",
            "                    Testing Report           \n",
            "              precision    recall  f1-score   support\n",
            "\n",
            "           0       1.00      1.00      1.00        38\n",
            "           1       1.00      1.00      1.00        85\n",
            "\n",
            "    accuracy                           1.00       123\n",
            "   macro avg       1.00      1.00      1.00       123\n",
            "weighted avg       1.00      1.00      1.00       123\n",
            "\n"
          ]
        }
      ]
    },
    {
      "cell_type": "markdown",
      "metadata": {
        "id": "UcdmL6TrZZ9S"
      },
      "source": [
        "**Observation:**\n",
        "\n",
        "- We can observe that **training results** are **too good** to be true. This is called **overfitting**.\n",
        "\n",
        "- On the test data report we can see that **class 0** is **performing well** as well as **class 1**.\n",
        "\n",
        "- Moreover, this **data** also **suffers** from **undersampling of minority class**.\n",
        "\n",
        "- To **overcome** this problem you can perform **cross validation** or **SMOTE technique**."
      ]
    },
    {
      "cell_type": "markdown",
      "metadata": {
        "id": "FgWeMwv9bGMJ"
      },
      "source": [
        "<a name = Section9></a>\n",
        "\n",
        "---\n",
        "# **9. Conclusion**\n",
        "---"
      ]
    },
    {
      "cell_type": "markdown",
      "metadata": {
        "id": "HCsHpZjdb6Wg"
      },
      "source": [
        "- We **analyzed different features** and understood their nature and distribution.\n",
        "\n",
        "- We performed **dummification** and **scaled** our **data** so that it can't affect our model outcome.\n",
        "\n",
        "- We split the data in a **stratified** fashion and develop a decision tree model.\n",
        "\n",
        "- We observed that the **results** obtained were **too good to be true** for training and test data.\n",
        "\n",
        "- This happened due to the **overfitting** of data over the model.\n",
        "\n",
        "- We also observed that results on the test set were not good because we have **undersampled data**.\n",
        "\n",
        "- To solve the issue one either use **cross-validation** or **SMOTE** technique or perform **hyperparameter optimization**.\n"
      ]
    }
  ]
}